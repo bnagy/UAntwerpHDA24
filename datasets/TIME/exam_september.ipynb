{
 "cells": [
  {
   "cell_type": "markdown",
   "metadata": {
    "id": "4M9no0omCYh5"
   },
   "source": [
    "# Humanities Data Analysis: Exam\n",
    "### *Second exam period - September 2021*"
   ]
  },
  {
   "cell_type": "markdown",
   "metadata": {
    "id": "-PKNib_aCYh8"
   },
   "source": [
    "This notebook contains the Humanities Data Analysis exam exercises. Code and write down text answers in the designated blocks, as in the weekly assignments. **Don't forget to save your progress!** You have three hours to fill out the exam. You can earn a total of **17.5 points** (which will be combined with the permanent evaluation score): the distribution is indicated per exercise. When you have finished, save your notebook (include your name in the filename!) and **send it via email to mike.kestemont@uantwerpen.be and lisa.hilte@uantwerpen.be** \n",
    "\n",
    "Some final notes before you get started:\n",
    "\n",
    "- Some questions have been marked as hard: we advise you to only solve these after having solved the rest of the exam.\n",
    "- Provide an interpretion of your results whenever that is explicitly asked. Use full sentences and avoid telegram-style. Allow for nuance in your interpretation and make use of the relevant terminology.\n",
    "- Try to fill in at least something for every question: we cannot give any marks for an empty answer box. \n",
    "- Do not remove any outliers or rescale data, unless when you are explicitly asked to do so.\n",
    "- The required datasets are in the folder `datasets_exam`, which is saved in the same directory level (i.e. in the same folder) as this notebook.\n",
    "- You are allowed to use all course materials (slides, notebooks, handbook by Gries) and the internet (e.g. reading discussion fora). However, **communication with third parties (including fellow students) is strictly forbidden!**\n",
    "- No technical support can be provided: working with the notebooks (loading, saving, etc.) is assumed to be an acquired skill. \n",
    "\n",
    "Good luck!"
   ]
  },
  {
   "cell_type": "markdown",
   "metadata": {
    "id": "u1UxYr6wCYh9"
   },
   "source": [
    "## Student information"
   ]
  },
  {
   "cell_type": "markdown",
   "metadata": {
    "id": "BCuA8rtdCYh-"
   },
   "source": [
    "Make sure to **include your name in the filename when saving this notebook**. In order to avoid any possible confusion, enter your name here too:"
   ]
  },
  {
   "cell_type": "code",
   "execution_count": null,
   "metadata": {
    "id": "mTvzX4wcCYh-"
   },
   "outputs": [],
   "source": [
    "# first and last name here"
   ]
  },
  {
   "cell_type": "code",
   "execution_count": null,
   "metadata": {
    "id": "nEt9IKUkCYiA"
   },
   "outputs": [],
   "source": [
    "# student number here"
   ]
  },
  {
   "cell_type": "markdown",
   "metadata": {
    "id": "qMEG-GjPCYiA"
   },
   "source": [
    "## Exercise 1: Protagonists' gender and social class\n",
    "\n",
    "**This exercise consists of two parts (1a - 1b) that range from an easy to an intermediate level, as indicated below. You can earn 5 points in total.**\n",
    "\n",
    "### Exercise 1a: Loading and exploring data\n",
    "\n",
    "**[level: easy]**\n",
    "\n",
    "**[points: 2]**\n",
    "\n",
    "Load and inspect the dataset `correlaciones/spanish-novels.tsv` from the `datasets_exam` folder and call it `novels`."
   ]
  },
  {
   "cell_type": "code",
   "execution_count": 1,
   "metadata": {
    "id": "ENr809SMCYiB",
    "outputId": "2eaab113-d4dd-4827-b926-76ad8ab8cf8e"
   },
   "outputs": [],
   "source": [
    "# code here"
   ]
  },
  {
   "cell_type": "markdown",
   "metadata": {
    "id": "BGaEz4_qCYiD"
   },
   "source": [
    "Which levels does the `protagonist.gender` variable have? Write down the names of the levels, and give the absolute frequencies (number of data points) per level."
   ]
  },
  {
   "cell_type": "code",
   "execution_count": 2,
   "metadata": {
    "id": "yOFPZ1JJCYiD",
    "outputId": "2565509d-a221-4353-dab0-1d32fc1ae742"
   },
   "outputs": [],
   "source": [
    "# code here"
   ]
  },
  {
   "cell_type": "code",
   "execution_count": 3,
   "metadata": {
    "id": "saw8QwD_CYiE"
   },
   "outputs": [],
   "source": [
    "# text answer here"
   ]
  },
  {
   "cell_type": "markdown",
   "metadata": {
    "id": "S2VbOizwCYiE"
   },
   "source": [
    "Create a subset of your dataset `novels` in which you only keep protagonists with 'female' or 'male' gender. You get this preprocessing step for free:"
   ]
  },
  {
   "cell_type": "code",
   "execution_count": 4,
   "metadata": {
    "id": "CfjkEcbLCYiE"
   },
   "outputs": [],
   "source": [
    "# given: preprocessing step\n",
    "\n",
    "# select subset\n",
    "novels <- novels[(novels$protagonist.gender == 'male')|(novels$protagonist.gender == 'female'),]\n",
    "# delete empty levels\n",
    "novels$protagonist.gender <- factor(novels$protagonist.gender)"
   ]
  },
  {
   "cell_type": "markdown",
   "metadata": {
    "id": "uVpHgwgwCYiF"
   },
   "source": [
    "Now inspect (with tables) the relation between the following two variables:\n",
    "- `protagonist.gender`: gender of the protagonist (main character) in a novel\n",
    "- `protagonist.social.level`: social class of the protagonist (main character) in a novel"
   ]
  },
  {
   "cell_type": "markdown",
   "metadata": {
    "id": "wXihAOnsCYiF"
   },
   "source": [
    "Create informative tables to compare these two variables, and round all proportions to three digits. Create:\n",
    "\n",
    "- a table with raw (absolute) frequencies\n",
    "- a table with column proportions\n",
    "- a table with row proportions"
   ]
  },
  {
   "cell_type": "code",
   "execution_count": 4,
   "metadata": {
    "id": "H6OCvwJPCYiF",
    "outputId": "2166edf9-c909-41dc-a8dd-39c3e6f2e078"
   },
   "outputs": [],
   "source": [
    "# code here"
   ]
  },
  {
   "cell_type": "markdown",
   "metadata": {
    "id": "j418Vv9mCYiG"
   },
   "source": [
    "Next, create the appropriate plot for `protagonist.gender` versus `protagonist.social.level`. Add coloring to increase clarity. "
   ]
  },
  {
   "cell_type": "code",
   "execution_count": 5,
   "metadata": {
    "id": "taK4iOlCCYiG",
    "outputId": "6fb3de62-6fbd-4735-c3e9-1ee8f67ce04f"
   },
   "outputs": [],
   "source": [
    "# code here"
   ]
  },
  {
   "cell_type": "markdown",
   "metadata": {
    "id": "Mp8eqBfrCYiH"
   },
   "source": [
    "What do the tables and plot suggest about the social diversity in Spanish novels among female and male protagonists? And about the gender divide among Spanish novel protagonists?"
   ]
  },
  {
   "cell_type": "code",
   "execution_count": 6,
   "metadata": {
    "id": "MRzD4e4_CYiH"
   },
   "outputs": [],
   "source": [
    "# text answer here"
   ]
  },
  {
   "cell_type": "markdown",
   "metadata": {
    "id": "Wozmz2oKCYiH"
   },
   "source": [
    "### Exercise 1b: Chi-squared test\n",
    "\n",
    "**[level: intermediate]**\n",
    "\n",
    "**[points: 3]**\n",
    "\n",
    "Before conducting a chi-squared test on the correlation between `protagonist.gender` and `protagonist.social.level`, formulate your null hypothesis $H_0$ and alternative hypothesis $H_1$."
   ]
  },
  {
   "cell_type": "code",
   "execution_count": 7,
   "metadata": {
    "id": "VWfIyiycCYiI"
   },
   "outputs": [],
   "source": [
    "# H0 here"
   ]
  },
  {
   "cell_type": "code",
   "execution_count": 8,
   "metadata": {
    "id": "yGIf8ZZ9CYiI"
   },
   "outputs": [],
   "source": [
    "# H1 here"
   ]
  },
  {
   "cell_type": "markdown",
   "metadata": {
    "id": "a7bA9SJECYiI"
   },
   "source": [
    "Test all assumptions of a chi-squared test. What are your findings, and their (statistical) implications/consequences? If required, take the necessary actions."
   ]
  },
  {
   "cell_type": "code",
   "execution_count": 9,
   "metadata": {
    "id": "NlNqfyvdCYiI",
    "outputId": "d5338cc9-4553-4073-e294-fe6f723256c5"
   },
   "outputs": [],
   "source": [
    "# code here"
   ]
  },
  {
   "cell_type": "code",
   "execution_count": 10,
   "metadata": {
    "id": "VdShByL3CYiI"
   },
   "outputs": [],
   "source": [
    "# text answer here"
   ]
  },
  {
   "cell_type": "markdown",
   "metadata": {
    "id": "IiQteD-RCYiJ"
   },
   "source": [
    "Following your previous steps, now perform a chi-squared test and interpret the result. Make sure to say something about the obtained chi-squared value and p-value, and about your previously formulated hypotheses."
   ]
  },
  {
   "cell_type": "code",
   "execution_count": 11,
   "metadata": {
    "id": "zInv7uoxCYiJ",
    "outputId": "b34ab619-d564-4789-f26d-63f987804600"
   },
   "outputs": [],
   "source": [
    "# code here"
   ]
  },
  {
   "cell_type": "code",
   "execution_count": 12,
   "metadata": {
    "id": "hEMwgj9VCYiJ"
   },
   "outputs": [],
   "source": [
    "# text answer here"
   ]
  },
  {
   "cell_type": "markdown",
   "metadata": {
    "id": "RQes4FWYCYiK"
   },
   "source": [
    "## Exercise 2: Faces in TIME Magazine\n",
    "\n",
    "**This exercise consists of three parts (2a - 2c) that range from an easy to an intermediate level, as indicated below. You can earn 6 points in total.**\n",
    "\n",
    "TIME Magazine is an influential periodical US publication that has covered America's domestic and global politics for many decades now. For a recent publication in the *Journal of Cultural Analytics*, [Jofre et al. (2020)](https://culturalanalytics.org/article/12266-what-s-in-a-face-gender-representation-of-faces-in-time-1940s-1990s) extracted all the human faces which were photorealistically depicted in TIME magazine's archive, covering 3,389 issues dating from 1923 to 2014. The research team (partly automatically) classified each of these instances as belonging to the 'male' or 'female' gender. For this exam question, we have preprocessed and reformatted their data (available from [here](https://dataverse.harvard.edu/dataset.xhtml?persistentId=doi:10.7910/DVN/YAT5QK)) into two new, easy-to-use datasets (`time/time-year.csv` and `time/time-season.csv`) that you will need for answering the questions below."
   ]
  },
  {
   "cell_type": "markdown",
   "metadata": {
    "id": "ZNk2SaAoCYiK"
   },
   "source": [
    "### Exercise 2a: Loading and exploring data\n",
    "\n",
    "**[level: easy]**\n",
    "\n",
    "**[points: 1]**\n",
    "\n",
    "\n",
    "Load the comma-separated file `time-year.csv`. Inspect the beginning and end of the table. For each year in the dataset (1923-2014), this table records the proportion of female faces (over all faces) that Jofre et al. detected. Verify that you have proportions for 90 years."
   ]
  },
  {
   "cell_type": "code",
   "execution_count": 13,
   "metadata": {
    "id": "1GRtXG56CYiK",
    "outputId": "150894a8-ffcd-4a79-a744-2e72e6f71489"
   },
   "outputs": [],
   "source": [
    "# code here"
   ]
  },
  {
   "cell_type": "markdown",
   "metadata": {
    "id": "05Qvo6_BCYiL"
   },
   "source": [
    "### Exercise 2b: Running a linear model\n",
    "\n",
    "**[level: intermediate]**\n",
    "\n",
    "**[points: 3]**\n",
    "\n",
    "First, plot the proportion of female faces in TIME over time as a scatterplot. Provide meaningful axis labels and a figure title. Informally describe any diachronic trends you can glean from this graph."
   ]
  },
  {
   "cell_type": "code",
   "execution_count": 14,
   "metadata": {
    "id": "OqRs4P9fCYiL",
    "outputId": "1a337ef3-6bae-4929-e2b1-b0352143bb34"
   },
   "outputs": [],
   "source": [
    "# code here"
   ]
  },
  {
   "cell_type": "code",
   "execution_count": 15,
   "metadata": {
    "id": "j5Kq5cjXCYiL"
   },
   "outputs": [],
   "source": [
    "# text answer here"
   ]
  },
  {
   "cell_type": "markdown",
   "metadata": {
    "id": "IrfMCJTRCYiL"
   },
   "source": [
    "Now run a linear model to predict the proportion of `female` faces as a function of `year`. (For the sake of simplicity, you do not have to scale or center your variables; also, you can treat the dependent variable `female` as a simple scalar.) Is the model you obtain satisfactory? Why (not)? Extract relevant arguments from the model summary."
   ]
  },
  {
   "cell_type": "code",
   "execution_count": 16,
   "metadata": {
    "id": "3vE7afS8CYiL",
    "outputId": "daa20f6f-5af5-49f5-97b6-c5b264655f7b"
   },
   "outputs": [],
   "source": [
    "# code here"
   ]
  },
  {
   "cell_type": "code",
   "execution_count": 17,
   "metadata": {
    "id": "wMqiaevDCYiM"
   },
   "outputs": [],
   "source": [
    "# text answer here"
   ]
  },
  {
   "cell_type": "markdown",
   "metadata": {
    "id": "uvLOuNiKCYiM"
   },
   "source": [
    "Generate your scatterplot from before again, but now overlay it with the regression line (in red) yielded by your linear model."
   ]
  },
  {
   "cell_type": "code",
   "execution_count": 18,
   "metadata": {
    "id": "-s4lqdXpCYiM",
    "outputId": "1bc441a4-2e8e-4cc9-c7b9-1874875ec989"
   },
   "outputs": [],
   "source": [
    "# code here"
   ]
  },
  {
   "cell_type": "markdown",
   "metadata": {
    "id": "gSFaVuqcCYiM"
   },
   "source": [
    "Thought exercise: Suppose that TIME Magazine really started publishing in 1922 already, which proportion of female faces would your model have predicted for this fictional year?"
   ]
  },
  {
   "cell_type": "code",
   "execution_count": 19,
   "metadata": {
    "id": "GiwkDsFJCYiM",
    "outputId": "c81b6278-83de-413b-ce05-0a4461be67d8"
   },
   "outputs": [],
   "source": [
    "# code here"
   ]
  },
  {
   "cell_type": "markdown",
   "metadata": {
    "id": "9Oqcw4O1CYiM"
   },
   "source": [
    "### Exercise 2c: TIME series\n",
    "\n",
    "**[level: intermediate]**\n",
    "\n",
    "**[points: 2]**\n",
    "\n",
    "Apart from a linear model, we can also approach this TIME series data with a bivariate test to verify the hypothesis that the proportion of female faces depicted in TIME has increased over time. Run Kendall's $\\tau$ on this data to verify this hypothesis and discuss your findings. Make sure to apply the correct directionality (cf. `alternative`) when running the test. Report your findings, using the following terms: \"null hypothesis\", \"alternative hypothesis\", \"p-value\", \"significant(ly)\", and \"directional(ity)\"."
   ]
  },
  {
   "cell_type": "code",
   "execution_count": 20,
   "metadata": {
    "id": "li2dfcakCYiM",
    "outputId": "d49b3cb5-09fc-4260-bb59-3da7caa292c8"
   },
   "outputs": [],
   "source": [
    "# code here"
   ]
  },
  {
   "cell_type": "code",
   "execution_count": 21,
   "metadata": {
    "id": "1mOxFHxRCYiN"
   },
   "outputs": [],
   "source": [
    "# text answer here"
   ]
  },
  {
   "cell_type": "markdown",
   "metadata": {
    "id": "6McvW8ziCYiO"
   },
   "source": [
    "## Exercise 3: Spellingdata revisited (full analysis)\n",
    "\n",
    "**This exercise consists of three parts (3a - 3c) that range from an easy to a hard level, as indicated below. You can earn 6.5 points in total.**\n",
    "\n",
    "### Exercise 3a: Loading and exploring data\n",
    "\n",
    "**[level: easy]**\n",
    "\n",
    "**[points: 1.5]**\n",
    "\n",
    "Load and inspect `spellingdata3.tsv` from the `datasets_exam` folder. You will notice that this is an updated version of the spellingdata dataset that you are familiar with, with some added variables. Read the readme to learn about the new variable `frequency`, and to go over the other variables once more."
   ]
  },
  {
   "cell_type": "code",
   "execution_count": 22,
   "metadata": {
    "id": "LKaP6brWCYiO",
    "outputId": "b39a607f-a8f5-43cb-9408-3c541341951a"
   },
   "outputs": [],
   "source": [
    "# code here"
   ]
  },
  {
   "cell_type": "markdown",
   "metadata": {
    "id": "y8il38dfCYiO"
   },
   "source": [
    "Turn `error` into a factor."
   ]
  },
  {
   "cell_type": "code",
   "execution_count": 23,
   "metadata": {
    "id": "yKX0QRDcCYiO",
    "outputId": "e92c698d-9209-40e0-df1d-d8e193828fc5"
   },
   "outputs": [],
   "source": [
    "# code here"
   ]
  },
  {
   "cell_type": "markdown",
   "metadata": {
    "id": "G4LmgcwnCYiP"
   },
   "source": [
    "Check this dataset for repeated measurements. Are there any? Describe what the implications for statistical modeling will be: which kind of model will you need to use?"
   ]
  },
  {
   "cell_type": "code",
   "execution_count": 24,
   "metadata": {
    "id": "l6HYtYcqCYiP",
    "outputId": "ba29adc6-ac51-4780-80d6-0be045446725"
   },
   "outputs": [],
   "source": [
    "# code here"
   ]
  },
  {
   "cell_type": "code",
   "execution_count": 25,
   "metadata": {
    "id": "iJL9FA7XCYiP"
   },
   "outputs": [],
   "source": [
    "# text answer here"
   ]
  },
  {
   "cell_type": "markdown",
   "metadata": {
    "id": "QF1PWnh0CYiP"
   },
   "source": [
    "### Exercise 3b: Statistical modeling\n",
    "\n",
    "**[level: intermediate]**\n",
    "\n",
    "**[points: 2.5]**\n",
    "\n",
    "Fit an appropriate statistical model to investigate the impact of `frequency`, `education` and their potential interaction (predictors) on the making of verb spelling errors (`error`) (response). You need to scale `frequency` when including it in your analyses. You can do so via the function `scale()`: simply use `scale(frequency)`.\n"
   ]
  },
  {
   "cell_type": "code",
   "execution_count": 26,
   "metadata": {
    "id": "hH9hf1BzCYiP",
    "outputId": "7d9beb41-ea70-4a56-e138-3329b5033018"
   },
   "outputs": [],
   "source": [
    "# code here: load libraries"
   ]
  },
  {
   "cell_type": "code",
   "execution_count": 27,
   "metadata": {
    "id": "d7STMpOPCYiP",
    "outputId": "7381c7dc-321c-4f3b-fef5-9f70aadeae40"
   },
   "outputs": [],
   "source": [
    "# code here: model fitting"
   ]
  },
  {
   "cell_type": "markdown",
   "metadata": {
    "id": "fDB5GV-JCYiP"
   },
   "source": [
    "Test whether or not all the predictors in the model are significant. Describe your findings and their implications."
   ]
  },
  {
   "cell_type": "code",
   "execution_count": 28,
   "metadata": {
    "id": "-KUbxAacCYiP",
    "outputId": "1f892fbc-0129-4d13-bde6-e1543ec6931c"
   },
   "outputs": [],
   "source": [
    "# code here"
   ]
  },
  {
   "cell_type": "code",
   "execution_count": 29,
   "metadata": {
    "id": "NBr6PLapCYiQ"
   },
   "outputs": [],
   "source": [
    "# text answer here"
   ]
  },
  {
   "cell_type": "markdown",
   "metadata": {
    "id": "npLTK4IqCYiQ"
   },
   "source": [
    "### Exercise 3c: Model visualization and interpretation\n",
    "\n",
    "**[level: hard]**\n",
    "\n",
    "**[points: 2.5]**\n",
    "\n",
    "Visualize the results of your model an effect plot. (You can ignore potential vector-warnings here when plotting)."
   ]
  },
  {
   "cell_type": "code",
   "execution_count": 30,
   "metadata": {
    "id": "GPjQalTDCYiQ",
    "outputId": "f9db9831-4ccc-4757-f2e1-caa93349546b"
   },
   "outputs": [],
   "source": [
    "# code here"
   ]
  },
  {
   "cell_type": "markdown",
   "metadata": {
    "id": "7SM59c_HCYiQ"
   },
   "source": [
    "Finally, describe and interpret the (large trends of the) results. You can refer to both your model information and your plot."
   ]
  },
  {
   "cell_type": "code",
   "execution_count": 31,
   "metadata": {
    "id": "cTUyhAtkCYiQ"
   },
   "outputs": [],
   "source": [
    "# text answer here"
   ]
  }
 ],
 "metadata": {
  "colab": {
   "name": "exam_september_solutions.ipynb",
   "provenance": []
  },
  "kernelspec": {
   "display_name": "R",
   "language": "R",
   "name": "ir"
  },
  "language_info": {
   "codemirror_mode": "r",
   "file_extension": ".r",
   "mimetype": "text/x-r-source",
   "name": "R",
   "pygments_lexer": "r",
   "version": "3.6.2"
  }
 },
 "nbformat": 4,
 "nbformat_minor": 1
}
