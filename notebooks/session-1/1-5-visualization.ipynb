{
 "cells": [
  {
   "cell_type": "markdown",
   "metadata": {
    "id": "kvG277XAAjqz"
   },
   "source": [
    "# Visualization in Python"
   ]
  },
  {
   "cell_type": "markdown",
   "metadata": {
    "id": "xJ465COOAjq4"
   },
   "source": [
    "In the previous sprint, we've covered some of the most basic summary statistics that are commonly used in data science to concisely describe how the values in a given sample behave. When you introduce a data set, it's really important to use these summary statistics profusely. For any variable, it's recommended to report at least:\n",
    "- a measure of data **size**: e.g. $n$: the number of observations; so sommon that it's easy to forget\n",
    "- a measure of **central tendency**: e.g., $\\mu$, the mean\n",
    "- a measure of **dispersion**: e.g., $\\sigma$, the standard deviation, IQR, a range, ...\n",
    "\n",
    "To complement that more prosaic description, however, there is nothing like a good plot. Plotting your data is crucial, in order to explore it yourself, but also to be able to construct a solid narrative around it that is engaging for other people. Visual assets invariably appeal to an audience and a good data scientist must also be a good plotter. In this print, we'll cover some of the more basic plotting types that we'll frequently encounter throughout the course. Because visualization is such a diverse topic, we can only scratch the tip of the iceberg in this sprint and we'll come across many other plot types in the course of this class."
   ]
  },
  {
   "cell_type": "markdown",
   "metadata": {},
   "source": [
    "![<img src=https://blog.revolutionanalytics.com%2F2017%2F05%2Fthe-datasaurus-dozen.html/>](https://blog.revolutionanalytics.com/downloads/DataSaurus%20Dozen.gif)"
   ]
  },
  {
   "cell_type": "code",
   "execution_count": 1,
   "metadata": {},
   "outputs": [],
   "source": [
    "import pandas as pd\n",
    "import matplotlib.pyplot as plt\n",
    "import seaborn as sns"
   ]
  },
  {
   "cell_type": "markdown",
   "metadata": {
    "id": "7aC8lcl0Ajq5"
   },
   "source": [
    "## Basic plotting"
   ]
  },
  {
   "cell_type": "markdown",
   "metadata": {
    "id": "QGq_wOrcAjq5"
   },
   "source": [
    "For this sprint, let us return to the Arthurian manuscripts data."
   ]
  },
  {
   "cell_type": "code",
   "execution_count": 2,
   "metadata": {
    "id": "BkRThykJAjq6",
    "outputId": "7d912975-b83d-4018-ef9a-bdcda6f398fa"
   },
   "outputs": [
    {
     "data": {
      "text/html": [
       "<div>\n",
       "<style scoped>\n",
       "    .dataframe tbody tr th:only-of-type {\n",
       "        vertical-align: middle;\n",
       "    }\n",
       "\n",
       "    .dataframe tbody tr th {\n",
       "        vertical-align: top;\n",
       "    }\n",
       "\n",
       "    .dataframe thead th {\n",
       "        text-align: right;\n",
       "    }\n",
       "</style>\n",
       "<table border=\"1\" class=\"dataframe\">\n",
       "  <thead>\n",
       "    <tr style=\"text-align: right;\">\n",
       "      <th></th>\n",
       "      <th>signature</th>\n",
       "      <th>repository</th>\n",
       "      <th>script</th>\n",
       "      <th>text-height</th>\n",
       "      <th>text-width</th>\n",
       "      <th>text-src</th>\n",
       "      <th>illustrations</th>\n",
       "      <th>date_min</th>\n",
       "      <th>date_max</th>\n",
       "      <th>leaf-height</th>\n",
       "      <th>leaf-width</th>\n",
       "      <th>leaf-src</th>\n",
       "      <th>number-lines</th>\n",
       "      <th>material</th>\n",
       "      <th>physical-type</th>\n",
       "      <th>country</th>\n",
       "      <th>region</th>\n",
       "      <th>columns</th>\n",
       "    </tr>\n",
       "  </thead>\n",
       "  <tbody>\n",
       "    <tr>\n",
       "      <th>1</th>\n",
       "      <td>Schloss Anholt (Isselburg), Fürstl. Salm-Salm'...</td>\n",
       "      <td>Schloss Anholt (Isselburg), Fürstl. Salm-Salm'...</td>\n",
       "      <td>textualis</td>\n",
       "      <td>220.0</td>\n",
       "      <td>164.0</td>\n",
       "      <td>original</td>\n",
       "      <td>0</td>\n",
       "      <td>1320.0</td>\n",
       "      <td>1325.0</td>\n",
       "      <td>308.0</td>\n",
       "      <td>215.0</td>\n",
       "      <td>current</td>\n",
       "      <td>32.0</td>\n",
       "      <td>parchment</td>\n",
       "      <td>fragment</td>\n",
       "      <td>NaN</td>\n",
       "      <td>NaN</td>\n",
       "      <td>2.0</td>\n",
       "    </tr>\n",
       "    <tr>\n",
       "      <th>2</th>\n",
       "      <td>Berlin, Staatsbibliothek, germ. fol. 923, 38</td>\n",
       "      <td>Berlin, Staatsbibliothek</td>\n",
       "      <td>NaN</td>\n",
       "      <td>NaN</td>\n",
       "      <td>NaN</td>\n",
       "      <td>NaN</td>\n",
       "      <td>0</td>\n",
       "      <td>1300.0</td>\n",
       "      <td>1400.0</td>\n",
       "      <td>NaN</td>\n",
       "      <td>NaN</td>\n",
       "      <td>NaN</td>\n",
       "      <td>NaN</td>\n",
       "      <td>parchment</td>\n",
       "      <td>fragment</td>\n",
       "      <td>Germany</td>\n",
       "      <td>Bayern</td>\n",
       "      <td>NaN</td>\n",
       "    </tr>\n",
       "    <tr>\n",
       "      <th>3</th>\n",
       "      <td>Linz, Landesarchiv, 96/IV/54</td>\n",
       "      <td>Linz, Landesarchiv</td>\n",
       "      <td>NaN</td>\n",
       "      <td>212.0</td>\n",
       "      <td>163.0</td>\n",
       "      <td>original</td>\n",
       "      <td>0</td>\n",
       "      <td>1390.0</td>\n",
       "      <td>1410.0</td>\n",
       "      <td>280.0</td>\n",
       "      <td>200.0</td>\n",
       "      <td>current</td>\n",
       "      <td>31.0</td>\n",
       "      <td>paper</td>\n",
       "      <td>codex</td>\n",
       "      <td>NaN</td>\n",
       "      <td>NaN</td>\n",
       "      <td>2.0</td>\n",
       "    </tr>\n",
       "    <tr>\n",
       "      <th>4</th>\n",
       "      <td>Brussels, Koninklijke Bibliotheek, II 115,2</td>\n",
       "      <td>Brussels, Koninklijke Bibliotheek</td>\n",
       "      <td>textualis</td>\n",
       "      <td>185.0</td>\n",
       "      <td>132.0</td>\n",
       "      <td>original</td>\n",
       "      <td>0</td>\n",
       "      <td>1340.0</td>\n",
       "      <td>1360.0</td>\n",
       "      <td>230.0</td>\n",
       "      <td>155.0</td>\n",
       "      <td>original</td>\n",
       "      <td>39.0</td>\n",
       "      <td>parchment</td>\n",
       "      <td>fragment</td>\n",
       "      <td>Southern Netherlands</td>\n",
       "      <td>Flanders</td>\n",
       "      <td>2.0</td>\n",
       "    </tr>\n",
       "    <tr>\n",
       "      <th>5</th>\n",
       "      <td>Munich, Staatsbibliothek, cgm. 5249 / 3b</td>\n",
       "      <td>Munich, Staatsbibliothek</td>\n",
       "      <td>textualis</td>\n",
       "      <td>195.0</td>\n",
       "      <td>127.0</td>\n",
       "      <td>original</td>\n",
       "      <td>0</td>\n",
       "      <td>1275.0</td>\n",
       "      <td>1300.0</td>\n",
       "      <td>232.0</td>\n",
       "      <td>160.0</td>\n",
       "      <td>current</td>\n",
       "      <td>42.0</td>\n",
       "      <td>parchment</td>\n",
       "      <td>fragment</td>\n",
       "      <td>NaN</td>\n",
       "      <td>NaN</td>\n",
       "      <td>2.0</td>\n",
       "    </tr>\n",
       "    <tr>\n",
       "      <th>...</th>\n",
       "      <td>...</td>\n",
       "      <td>...</td>\n",
       "      <td>...</td>\n",
       "      <td>...</td>\n",
       "      <td>...</td>\n",
       "      <td>...</td>\n",
       "      <td>...</td>\n",
       "      <td>...</td>\n",
       "      <td>...</td>\n",
       "      <td>...</td>\n",
       "      <td>...</td>\n",
       "      <td>...</td>\n",
       "      <td>...</td>\n",
       "      <td>...</td>\n",
       "      <td>...</td>\n",
       "      <td>...</td>\n",
       "      <td>...</td>\n",
       "      <td>...</td>\n",
       "    </tr>\n",
       "    <tr>\n",
       "      <th>1162</th>\n",
       "      <td>Orléans, Bibliothèque Municipale, -</td>\n",
       "      <td>Orléans, Bibliothèque Municipale</td>\n",
       "      <td>NaN</td>\n",
       "      <td>NaN</td>\n",
       "      <td>NaN</td>\n",
       "      <td>NaN</td>\n",
       "      <td>0</td>\n",
       "      <td>1200.0</td>\n",
       "      <td>1300.0</td>\n",
       "      <td>150.0</td>\n",
       "      <td>105.0</td>\n",
       "      <td>current</td>\n",
       "      <td>30.0</td>\n",
       "      <td>parchment</td>\n",
       "      <td>fragment</td>\n",
       "      <td>NaN</td>\n",
       "      <td>NaN</td>\n",
       "      <td>1.0</td>\n",
       "    </tr>\n",
       "    <tr>\n",
       "      <th>1163</th>\n",
       "      <td>Freiburg, Universitätsbibliothek, 513</td>\n",
       "      <td>Freiburg, Universitätsbibliothek</td>\n",
       "      <td>NaN</td>\n",
       "      <td>150.0</td>\n",
       "      <td>115.0</td>\n",
       "      <td>original</td>\n",
       "      <td>0</td>\n",
       "      <td>1290.0</td>\n",
       "      <td>1310.0</td>\n",
       "      <td>160.0</td>\n",
       "      <td>140.0</td>\n",
       "      <td>current</td>\n",
       "      <td>NaN</td>\n",
       "      <td>parchment</td>\n",
       "      <td>fragment</td>\n",
       "      <td>NaN</td>\n",
       "      <td>NaN</td>\n",
       "      <td>2.0</td>\n",
       "    </tr>\n",
       "    <tr>\n",
       "      <th>1164</th>\n",
       "      <td>Paris, Bibliothèque Nationale de France, fr. 340</td>\n",
       "      <td>Paris, Bibliothèque Nationale de France</td>\n",
       "      <td>NaN</td>\n",
       "      <td>NaN</td>\n",
       "      <td>NaN</td>\n",
       "      <td>NaN</td>\n",
       "      <td>76</td>\n",
       "      <td>1400.0</td>\n",
       "      <td>1425.0</td>\n",
       "      <td>420.0</td>\n",
       "      <td>300.0</td>\n",
       "      <td>current</td>\n",
       "      <td>53.0</td>\n",
       "      <td>parchment</td>\n",
       "      <td>codex</td>\n",
       "      <td>NaN</td>\n",
       "      <td>NaN</td>\n",
       "      <td>3.0</td>\n",
       "    </tr>\n",
       "    <tr>\n",
       "      <th>1165</th>\n",
       "      <td>Heidelberg, Universitätsbibliothek, Cpg 397</td>\n",
       "      <td>Heidelberg, Universitätsbibliothek</td>\n",
       "      <td>textualis</td>\n",
       "      <td>165.0</td>\n",
       "      <td>100.0</td>\n",
       "      <td>original</td>\n",
       "      <td>0</td>\n",
       "      <td>1225.0</td>\n",
       "      <td>1250.0</td>\n",
       "      <td>198.0</td>\n",
       "      <td>122.0</td>\n",
       "      <td>current</td>\n",
       "      <td>26.0</td>\n",
       "      <td>parchment</td>\n",
       "      <td>codex</td>\n",
       "      <td>Germany</td>\n",
       "      <td>Rheinfranken</td>\n",
       "      <td>1.0</td>\n",
       "    </tr>\n",
       "    <tr>\n",
       "      <th>1166</th>\n",
       "      <td>Florence, Biblioteca Laurenziana, Plut. 77, 23</td>\n",
       "      <td>Florence, Biblioteca Laurenziana</td>\n",
       "      <td>NaN</td>\n",
       "      <td>NaN</td>\n",
       "      <td>NaN</td>\n",
       "      <td>NaN</td>\n",
       "      <td>0</td>\n",
       "      <td>NaN</td>\n",
       "      <td>NaN</td>\n",
       "      <td>NaN</td>\n",
       "      <td>NaN</td>\n",
       "      <td>NaN</td>\n",
       "      <td>NaN</td>\n",
       "      <td>paper</td>\n",
       "      <td>codex</td>\n",
       "      <td>Italy</td>\n",
       "      <td>NaN</td>\n",
       "      <td>NaN</td>\n",
       "    </tr>\n",
       "  </tbody>\n",
       "</table>\n",
       "<p>1166 rows × 18 columns</p>\n",
       "</div>"
      ],
      "text/plain": [
       "                                              signature  \\\n",
       "1     Schloss Anholt (Isselburg), Fürstl. Salm-Salm'...   \n",
       "2          Berlin, Staatsbibliothek, germ. fol. 923, 38   \n",
       "3                          Linz, Landesarchiv, 96/IV/54   \n",
       "4           Brussels, Koninklijke Bibliotheek, II 115,2   \n",
       "5              Munich, Staatsbibliothek, cgm. 5249 / 3b   \n",
       "...                                                 ...   \n",
       "1162                Orléans, Bibliothèque Municipale, -   \n",
       "1163              Freiburg, Universitätsbibliothek, 513   \n",
       "1164   Paris, Bibliothèque Nationale de France, fr. 340   \n",
       "1165        Heidelberg, Universitätsbibliothek, Cpg 397   \n",
       "1166     Florence, Biblioteca Laurenziana, Plut. 77, 23   \n",
       "\n",
       "                                             repository     script  \\\n",
       "1     Schloss Anholt (Isselburg), Fürstl. Salm-Salm'...  textualis   \n",
       "2                              Berlin, Staatsbibliothek        NaN   \n",
       "3                                    Linz, Landesarchiv        NaN   \n",
       "4                     Brussels, Koninklijke Bibliotheek  textualis   \n",
       "5                              Munich, Staatsbibliothek  textualis   \n",
       "...                                                 ...        ...   \n",
       "1162                   Orléans, Bibliothèque Municipale        NaN   \n",
       "1163                   Freiburg, Universitätsbibliothek        NaN   \n",
       "1164            Paris, Bibliothèque Nationale de France        NaN   \n",
       "1165                 Heidelberg, Universitätsbibliothek  textualis   \n",
       "1166                   Florence, Biblioteca Laurenziana        NaN   \n",
       "\n",
       "      text-height  text-width  text-src  illustrations  date_min  date_max  \\\n",
       "1           220.0       164.0  original              0    1320.0    1325.0   \n",
       "2             NaN         NaN       NaN              0    1300.0    1400.0   \n",
       "3           212.0       163.0  original              0    1390.0    1410.0   \n",
       "4           185.0       132.0  original              0    1340.0    1360.0   \n",
       "5           195.0       127.0  original              0    1275.0    1300.0   \n",
       "...           ...         ...       ...            ...       ...       ...   \n",
       "1162          NaN         NaN       NaN              0    1200.0    1300.0   \n",
       "1163        150.0       115.0  original              0    1290.0    1310.0   \n",
       "1164          NaN         NaN       NaN             76    1400.0    1425.0   \n",
       "1165        165.0       100.0  original              0    1225.0    1250.0   \n",
       "1166          NaN         NaN       NaN              0       NaN       NaN   \n",
       "\n",
       "      leaf-height  leaf-width  leaf-src  number-lines   material  \\\n",
       "1           308.0       215.0   current          32.0  parchment   \n",
       "2             NaN         NaN       NaN           NaN  parchment   \n",
       "3           280.0       200.0   current          31.0      paper   \n",
       "4           230.0       155.0  original          39.0  parchment   \n",
       "5           232.0       160.0   current          42.0  parchment   \n",
       "...           ...         ...       ...           ...        ...   \n",
       "1162        150.0       105.0   current          30.0  parchment   \n",
       "1163        160.0       140.0   current           NaN  parchment   \n",
       "1164        420.0       300.0   current          53.0  parchment   \n",
       "1165        198.0       122.0   current          26.0  parchment   \n",
       "1166          NaN         NaN       NaN           NaN      paper   \n",
       "\n",
       "     physical-type               country        region  columns  \n",
       "1         fragment                   NaN           NaN      2.0  \n",
       "2         fragment               Germany        Bayern      NaN  \n",
       "3            codex                   NaN           NaN      2.0  \n",
       "4         fragment  Southern Netherlands      Flanders      2.0  \n",
       "5         fragment                   NaN           NaN      2.0  \n",
       "...            ...                   ...           ...      ...  \n",
       "1162      fragment                   NaN           NaN      1.0  \n",
       "1163      fragment                   NaN           NaN      2.0  \n",
       "1164         codex                   NaN           NaN      3.0  \n",
       "1165         codex               Germany  Rheinfranken      1.0  \n",
       "1166         codex                 Italy           NaN      NaN  \n",
       "\n",
       "[1166 rows x 18 columns]"
      ]
     },
     "execution_count": 2,
     "metadata": {},
     "output_type": "execute_result"
    }
   ],
   "source": [
    "df = pd.read_csv(\"../../datasets/arthur/manuscripts.csv\", index_col=0)\n",
    "df"
   ]
  },
  {
   "cell_type": "markdown",
   "metadata": {
    "id": "7qI7V619Ajq_"
   },
   "source": [
    "Let us focus on the two pairs of physical measurements that we have here:\n",
    "- `leaf-height` and `leaf-width` (which describe the size of the full pages of each book)\n",
    "- `text-height` and `text-width` (which describe the size of the text area on the pages)\n",
    "\n",
    "Both measurements are expressed in millimeters."
   ]
  },
  {
   "cell_type": "markdown",
   "metadata": {
    "id": "hkEQ2tzZAjq_"
   },
   "source": [
    "To avoid the NAs, we'll stick to the complete cases:"
   ]
  },
  {
   "cell_type": "code",
   "execution_count": 3,
   "metadata": {
    "id": "ZzEeLmPsAjrA",
    "outputId": "d0c79e51-0c76-43c3-a318-157a5f566283"
   },
   "outputs": [
    {
     "data": {
      "text/html": [
       "<div>\n",
       "<style scoped>\n",
       "    .dataframe tbody tr th:only-of-type {\n",
       "        vertical-align: middle;\n",
       "    }\n",
       "\n",
       "    .dataframe tbody tr th {\n",
       "        vertical-align: top;\n",
       "    }\n",
       "\n",
       "    .dataframe thead th {\n",
       "        text-align: right;\n",
       "    }\n",
       "</style>\n",
       "<table border=\"1\" class=\"dataframe\">\n",
       "  <thead>\n",
       "    <tr style=\"text-align: right;\">\n",
       "      <th></th>\n",
       "      <th>leaf-height</th>\n",
       "      <th>leaf-width</th>\n",
       "      <th>text-height</th>\n",
       "      <th>text-width</th>\n",
       "    </tr>\n",
       "  </thead>\n",
       "  <tbody>\n",
       "    <tr>\n",
       "      <th>1</th>\n",
       "      <td>308.0</td>\n",
       "      <td>215.0</td>\n",
       "      <td>220.0</td>\n",
       "      <td>164.0</td>\n",
       "    </tr>\n",
       "    <tr>\n",
       "      <th>3</th>\n",
       "      <td>280.0</td>\n",
       "      <td>200.0</td>\n",
       "      <td>212.0</td>\n",
       "      <td>163.0</td>\n",
       "    </tr>\n",
       "    <tr>\n",
       "      <th>4</th>\n",
       "      <td>230.0</td>\n",
       "      <td>155.0</td>\n",
       "      <td>185.0</td>\n",
       "      <td>132.0</td>\n",
       "    </tr>\n",
       "    <tr>\n",
       "      <th>5</th>\n",
       "      <td>232.0</td>\n",
       "      <td>160.0</td>\n",
       "      <td>195.0</td>\n",
       "      <td>127.0</td>\n",
       "    </tr>\n",
       "    <tr>\n",
       "      <th>9</th>\n",
       "      <td>260.0</td>\n",
       "      <td>128.0</td>\n",
       "      <td>224.0</td>\n",
       "      <td>128.0</td>\n",
       "    </tr>\n",
       "    <tr>\n",
       "      <th>...</th>\n",
       "      <td>...</td>\n",
       "      <td>...</td>\n",
       "      <td>...</td>\n",
       "      <td>...</td>\n",
       "    </tr>\n",
       "    <tr>\n",
       "      <th>1155</th>\n",
       "      <td>340.0</td>\n",
       "      <td>230.0</td>\n",
       "      <td>220.0</td>\n",
       "      <td>140.0</td>\n",
       "    </tr>\n",
       "    <tr>\n",
       "      <th>1159</th>\n",
       "      <td>334.0</td>\n",
       "      <td>230.0</td>\n",
       "      <td>185.0</td>\n",
       "      <td>290.0</td>\n",
       "    </tr>\n",
       "    <tr>\n",
       "      <th>1160</th>\n",
       "      <td>95.0</td>\n",
       "      <td>160.0</td>\n",
       "      <td>250.0</td>\n",
       "      <td>190.0</td>\n",
       "    </tr>\n",
       "    <tr>\n",
       "      <th>1163</th>\n",
       "      <td>160.0</td>\n",
       "      <td>140.0</td>\n",
       "      <td>150.0</td>\n",
       "      <td>115.0</td>\n",
       "    </tr>\n",
       "    <tr>\n",
       "      <th>1165</th>\n",
       "      <td>198.0</td>\n",
       "      <td>122.0</td>\n",
       "      <td>165.0</td>\n",
       "      <td>100.0</td>\n",
       "    </tr>\n",
       "  </tbody>\n",
       "</table>\n",
       "<p>402 rows × 4 columns</p>\n",
       "</div>"
      ],
      "text/plain": [
       "      leaf-height  leaf-width  text-height  text-width\n",
       "1           308.0       215.0        220.0       164.0\n",
       "3           280.0       200.0        212.0       163.0\n",
       "4           230.0       155.0        185.0       132.0\n",
       "5           232.0       160.0        195.0       127.0\n",
       "9           260.0       128.0        224.0       128.0\n",
       "...           ...         ...          ...         ...\n",
       "1155        340.0       230.0        220.0       140.0\n",
       "1159        334.0       230.0        185.0       290.0\n",
       "1160         95.0       160.0        250.0       190.0\n",
       "1163        160.0       140.0        150.0       115.0\n",
       "1165        198.0       122.0        165.0       100.0\n",
       "\n",
       "[402 rows x 4 columns]"
      ]
     },
     "execution_count": 3,
     "metadata": {},
     "output_type": "execute_result"
    }
   ],
   "source": [
    "dimensions = df[[\"leaf-height\", \"leaf-width\", \"text-height\", \"text-width\"]].dropna()\n",
    "dimensions"
   ]
  },
  {
   "cell_type": "markdown",
   "metadata": {},
   "source": [
    "## Matplotlib and Seaborn and Pandas and Plotly and....\n",
    "\n",
    "In Python, there are are *many* ways of plotting data. Here we will cover only some of the most common ones that you are likely to see in the wild. The most basic way of plotting is to use the methods built right in to `pandas`. These are pretty simplistic, but they are a great way for you to inspect the data visually as you're working with it."
   ]
  },
  {
   "cell_type": "markdown",
   "metadata": {
    "id": "IihcewGRAjrD"
   },
   "source": [
    "We all know what a typical book looks like and, in fact, the average dimensions of books haven't changed all that much in the past centuries. It is obvious, for instance, that the height of a book is related to the width of the book. We can be excused for hypothesizing: \"the higher a page, the wider a page\". In the rest of this course, we'll return to this relationship very often and develop much more principled approaches to characterize such a relationship (or \"correlation\") between two variables. For now, however, let us assume that we just received this dataset and we're still exploring it."
   ]
  },
  {
   "cell_type": "markdown",
   "metadata": {
    "id": "LzKzf_y2AjrD"
   },
   "source": [
    "### Scatterplots"
   ]
  },
  {
   "cell_type": "markdown",
   "metadata": {
    "id": "f5vp0iGCAjrE"
   },
   "source": [
    "One straightforward way to explore the physical dimensions of our books would be to create a two dimensional scatterplot, in which each data point (here: book) is plotted as a dot. On the vertical axis, we plot a book's height, and on the horizontal axis, a book's width."
   ]
  },
  {
   "cell_type": "code",
   "execution_count": 4,
   "metadata": {
    "id": "2tZE0c62AjrE",
    "outputId": "93c4b015-d3d1-461e-f53a-225330a6e5de"
   },
   "outputs": [
    {
     "data": {
      "image/png": "[encoded data removed]",
      "text/plain": [
       "<Figure size 640x480 with 1 Axes>"
      ]
     },
     "metadata": {},
     "output_type": "display_data"
    }
   ],
   "source": [
    "dimensions.plot.scatter(\"text-width\", \"text-height\")\n",
    "# magic incantation to cleanly display plots in a notebook:\n",
    "plt.show()"
   ]
  },
  {
   "cell_type": "markdown",
   "metadata": {
    "id": "NJ5i7kdzAjrI"
   },
   "source": [
    "There's quite a bit of scatter in the data, which has to do with the fact that only fragments of some of these books remain. Nevertheless, we can see a clear relationship between the two variables, as expected. Such visualizations aren't the *end* of a statistical story, but rather the *beginning*: they should urge you to look into this relationship in more detail!\n",
    "\n",
    "> #### Exercise\n",
    ">\n",
    "> The previous plot was for the text dimensions. Can you create a similar plot for the dimensions of the page surface?"
   ]
  },
  {
   "cell_type": "code",
   "execution_count": 5,
   "metadata": {},
   "outputs": [],
   "source": [
    "# code here"
   ]
  },
  {
   "cell_type": "markdown",
   "metadata": {},
   "source": [
    "## Seaborn for \"prettier\" plots\n",
    "\n",
    "The `pandas` plot is pretty basic. Here is the same plot, but made with `seaborn`, a common plotting library with good integration of basic statistics and regression. We will get more fancy later, but for now notice that we set the `data` parameter to refer to our dataframe, and then use the parameters according to the seaborn `scatterplot()` method. You can find the full documentation [here](https://seaborn.pydata.org/generated/seaborn.scatterplot.html)"
   ]
  },
  {
   "cell_type": "code",
   "execution_count": 5,
   "metadata": {},
   "outputs": [
    {
     "data": {
      "image/png": "[encoded data removed]",
      "text/plain": [
       "<Figure size 640x480 with 1 Axes>"
      ]
     },
     "metadata": {},
     "output_type": "display_data"
    }
   ],
   "source": [
    "sns.scatterplot(data=dimensions, x=\"leaf-width\", y=\"leaf-height\")\n",
    "plt.show()"
   ]
  },
  {
   "cell_type": "code",
   "execution_count": 6,
   "metadata": {},
   "outputs": [
    {
     "data": {
      "image/png": "[encoded data removed]",
      "text/plain": [
       "<Figure size 640x480 with 1 Axes>"
      ]
     },
     "metadata": {},
     "output_type": "display_data"
    }
   ],
   "source": [
    "sns.scatterplot(data=dimensions, x=\"text-width\", y=\"text-height\")\n",
    "plt.show()"
   ]
  },
  {
   "cell_type": "markdown",
   "metadata": {},
   "source": [
    "## Overlaying Plots\n",
    "\n",
    "Because the dimensions of the page and the writing surface are expressed on the same scale (millimeters), we can plot them onto the same figure. Let's use different colors or markers/symbols ('plotting characters') for clarity. A nice thing about Seaborn plots is that repeated calls to plotting functions will use the same `Axes` object (this is an underlying `matplotlib` thing, don't worry about it too much). The net result of that is that we can combine all sorts of figures to build more informational plots.\n",
    "\n",
    "Let's start by just plotting the two different series onto the same axes, but with different colours and markers to tell them apart..."
   ]
  },
  {
   "cell_type": "code",
   "execution_count": 7,
   "metadata": {},
   "outputs": [
    {
     "data": {
      "image/png": "[encoded data removed]",
      "text/plain": [
       "<Figure size 640x480 with 1 Axes>"
      ]
     },
     "metadata": {},
     "output_type": "display_data"
    }
   ],
   "source": [
    "sns.scatterplot(data=dimensions, x=\"leaf-width\", y=\"leaf-height\")\n",
    "sns.scatterplot(data=dimensions, x=\"text-width\", y=\"text-height\", marker=\"X\")\n",
    "plt.show()"
   ]
  },
  {
   "cell_type": "markdown",
   "metadata": {},
   "source": [
    "As you can see, the **coordinates** of the blue points tend to be slightly higher than the red points: that makes sense, because the writing area has to fit on the page; it *has* to be smaller."
   ]
  },
  {
   "cell_type": "markdown",
   "metadata": {},
   "source": [
    "The plot above is still pretty ugly though. There is no legend, and the axes labels are generated from the first plotting call. To do better, we will first make a combined dataframe."
   ]
  },
  {
   "cell_type": "code",
   "execution_count": 9,
   "metadata": {},
   "outputs": [],
   "source": [
    "leaf = dimensions[[\"leaf-height\", \"leaf-width\"]].copy()\n",
    "leaf.columns = [\"height\", \"width\"]\n",
    "leaf[\"label\"] = \"leaf\"\n",
    "\n",
    "text = dimensions[[\"text-height\", \"text-width\"]].copy()\n",
    "text.columns = [\"height\", \"width\"]\n",
    "text[\"label\"] = \"text\""
   ]
  },
  {
   "cell_type": "code",
   "execution_count": null,
   "metadata": {},
   "outputs": [],
   "source": [
    "combined = pd.concat([leaf, text])\n",
    "combined"
   ]
  },
  {
   "cell_type": "markdown",
   "metadata": {},
   "source": [
    "Now let's make a nicer plot. There are a lot of magic incantations here! This can't really be helped -- the best way to learn Python visualisation is to copy an example and then play around (and read the documentation) until we have what we want..."
   ]
  },
  {
   "cell_type": "code",
   "execution_count": null,
   "metadata": {},
   "outputs": [],
   "source": [
    "sns.set_theme(\n",
    "    rc={\"figure.figsize\": (8, 6)}\n",
    ")  # sets overall figure shape, units are inches, because America\n",
    "sns.set_context(\n",
    "    \"notebook\",  # determines the size of the fonts and points\n",
    ")\n",
    "sns.set_style(\"whitegrid\")  # try 'darkgrid' :)\n",
    "\n",
    "sns.scatterplot(\n",
    "    x=\"width\",\n",
    "    y=\"height\",\n",
    "    data=combined,\n",
    "    hue=\"label\",  # change the hue every time the 'label' value changes\n",
    "    style=\"label\",  # same for the marker style\n",
    ")\n",
    "plt.show()\n",
    "sns.reset_defaults()"
   ]
  },
  {
   "cell_type": "markdown",
   "metadata": {},
   "source": [
    "This is starting to be more presentable. Note that seaborn makes a legend for us based on the shapes and colours that are used:"
   ]
  },
  {
   "cell_type": "markdown",
   "metadata": {},
   "source": [
    "Finally, here is an even more complex plot. This `JointPlot` is built into seaborn (documentation [here](https://seaborn.pydata.org/generated/seaborn.jointplot.html)), and adds a **density estimate** along the axes. These are a quick way to show us where most of the data falls (they are like a count histogram but smoothed). (More details on densities and histograms will be discussed later!)"
   ]
  },
  {
   "cell_type": "code",
   "execution_count": null,
   "metadata": {},
   "outputs": [],
   "source": [
    "sns.set_theme(rc={\"figure.figsize\": (8, 6)})\n",
    "sns.set_context(\n",
    "    \"notebook\",\n",
    ")\n",
    "sns.set_style(\"white\")\n",
    "\n",
    "g = sns.jointplot(\n",
    "    x=\"width\",\n",
    "    y=\"height\",\n",
    "    data=combined,\n",
    "    hue=\"label\",\n",
    "    ylim=(-10, combined.height.max() * 1.05),\n",
    ")\n",
    "\n",
    "plt.show()\n",
    "sns.reset_defaults()"
   ]
  },
  {
   "cell_type": "markdown",
   "metadata": {
    "id": "mZ0YW4DmAjrc"
   },
   "source": [
    "### Line plots and time series"
   ]
  },
  {
   "cell_type": "markdown",
   "metadata": {
    "id": "P4oc2n8IAjrc"
   },
   "source": [
    "**Scatterplots**, like the ones we just introduced, are useful for plotting individual data points onto a two-dimensional canvas, i.e. when you have two numeric variables and you'd like to inspect the relationship between them. **Line plots** are an alternative, when you would like to plot \"trend lines\", for instance. Such trend lines are common when you work with **time series data**, that allow you to track the development of a feature over time: in such cases, the dots that you aim to plot aren't isolated, but connected to one another. They come in a natural, temporal order (unlike the manuscript measurements above)."
   ]
  },
  {
   "cell_type": "markdown",
   "metadata": {},
   "source": [
    "An interesting time series is offered by the TIME data, which records for every `year` in the dataset, the average proportion of `female`\n",
    " faces that were (automatically detected) in the illustrations and photographs published in this periodical. We load this dataset as follows:"
   ]
  },
  {
   "cell_type": "code",
   "execution_count": 8,
   "metadata": {},
   "outputs": [
    {
     "data": {
      "text/html": [
       "<div>\n",
       "<style scoped>\n",
       "    .dataframe tbody tr th:only-of-type {\n",
       "        vertical-align: middle;\n",
       "    }\n",
       "\n",
       "    .dataframe tbody tr th {\n",
       "        vertical-align: top;\n",
       "    }\n",
       "\n",
       "    .dataframe thead th {\n",
       "        text-align: right;\n",
       "    }\n",
       "</style>\n",
       "<table border=\"1\" class=\"dataframe\">\n",
       "  <thead>\n",
       "    <tr style=\"text-align: right;\">\n",
       "      <th></th>\n",
       "      <th>year</th>\n",
       "      <th>female</th>\n",
       "    </tr>\n",
       "  </thead>\n",
       "  <tbody>\n",
       "    <tr>\n",
       "      <th>0</th>\n",
       "      <td>1923</td>\n",
       "      <td>0.114919</td>\n",
       "    </tr>\n",
       "    <tr>\n",
       "      <th>1</th>\n",
       "      <td>1924</td>\n",
       "      <td>0.113833</td>\n",
       "    </tr>\n",
       "    <tr>\n",
       "      <th>2</th>\n",
       "      <td>1925</td>\n",
       "      <td>0.121891</td>\n",
       "    </tr>\n",
       "    <tr>\n",
       "      <th>3</th>\n",
       "      <td>1926</td>\n",
       "      <td>0.164196</td>\n",
       "    </tr>\n",
       "    <tr>\n",
       "      <th>4</th>\n",
       "      <td>1927</td>\n",
       "      <td>0.154154</td>\n",
       "    </tr>\n",
       "    <tr>\n",
       "      <th>...</th>\n",
       "      <td>...</td>\n",
       "      <td>...</td>\n",
       "    </tr>\n",
       "    <tr>\n",
       "      <th>85</th>\n",
       "      <td>2010</td>\n",
       "      <td>0.296973</td>\n",
       "    </tr>\n",
       "    <tr>\n",
       "      <th>86</th>\n",
       "      <td>2011</td>\n",
       "      <td>0.309642</td>\n",
       "    </tr>\n",
       "    <tr>\n",
       "      <th>87</th>\n",
       "      <td>2012</td>\n",
       "      <td>0.318389</td>\n",
       "    </tr>\n",
       "    <tr>\n",
       "      <th>88</th>\n",
       "      <td>2013</td>\n",
       "      <td>0.325029</td>\n",
       "    </tr>\n",
       "    <tr>\n",
       "      <th>89</th>\n",
       "      <td>2014</td>\n",
       "      <td>0.358329</td>\n",
       "    </tr>\n",
       "  </tbody>\n",
       "</table>\n",
       "<p>90 rows × 2 columns</p>\n",
       "</div>"
      ],
      "text/plain": [
       "    year    female\n",
       "0   1923  0.114919\n",
       "1   1924  0.113833\n",
       "2   1925  0.121891\n",
       "3   1926  0.164196\n",
       "4   1927  0.154154\n",
       "..   ...       ...\n",
       "85  2010  0.296973\n",
       "86  2011  0.309642\n",
       "87  2012  0.318389\n",
       "88  2013  0.325029\n",
       "89  2014  0.358329\n",
       "\n",
       "[90 rows x 2 columns]"
      ]
     },
     "execution_count": 8,
     "metadata": {},
     "output_type": "execute_result"
    }
   ],
   "source": [
    "time = pd.read_csv(\"../../datasets/TIME/time-year.csv\")\n",
    "time"
   ]
  },
  {
   "cell_type": "markdown",
   "metadata": {},
   "source": [
    "Again, first a plot straight out of the pandas dataframe for us to look at the data..."
   ]
  },
  {
   "cell_type": "code",
   "execution_count": 9,
   "metadata": {
    "id": "54Wzq4aJAjrm",
    "outputId": "2548e55a-c9d9-449d-992b-c4d2832dd6d5"
   },
   "outputs": [
    {
     "data": {
      "image/png": "[encoded data removed]",
      "text/plain": [
       "<Figure size 640x480 with 1 Axes>"
      ]
     },
     "metadata": {},
     "output_type": "display_data"
    }
   ],
   "source": [
    "time.plot.line(x=\"year\", y=\"female\")\n",
    "plt.show()"
   ]
  },
  {
   "cell_type": "markdown",
   "metadata": {},
   "source": [
    "... and now a fancier plot with seaborn. One thing that a time series hides from us are the positions of individual samples; it would be good to know if we have just as many samples from the 20s as from the 80s, so see if we have some **bias**. Here we use a different way to see how the individual samples are distributed---a **rugplot**. These are very space efficient, while still containing a lot of the intuition of a density plot. Here we can see that most of the proportion datapoints fall within about $(0.25,0.34)$, but the samples are evenly distributed over time, which is nice. Note how, once again, we combine two different seaborn plots on the same `Axes` object by just creating them one after the other."
   ]
  },
  {
   "cell_type": "code",
   "execution_count": 10,
   "metadata": {},
   "outputs": [
    {
     "data": {
      "image/png": "[encoded data removed]",
      "text/plain": [
       "<Figure size 800x600 with 1 Axes>"
      ]
     },
     "metadata": {},
     "output_type": "display_data"
    }
   ],
   "source": [
    "sns.set_theme(rc={\"figure.figsize\": (8, 6)})\n",
    "sns.set_context(\n",
    "    \"notebook\",\n",
    ")\n",
    "sns.set_style(\"whitegrid\")\n",
    "sns.lineplot(data=time, x=\"year\", y=\"female\", color=\"purple\", linewidth=3)\n",
    "sns.rugplot(data=time, x=\"year\", y=\"female\", color=\"purple\", linewidth=1)\n",
    "\n",
    "plt.show()\n",
    "sns.reset_defaults()  # reset all the style parameters we have changed"
   ]
  },
  {
   "cell_type": "markdown",
   "metadata": {
    "id": "WNP0wWMsAjro"
   },
   "source": [
    "As you can see, the proportion of female faces depicted in the magazine has increased over time: very rapidly in the first two decades, and then more steadily afterwards. This is a textbook example of a time series plot, because we chart the development of a particular feature over time."
   ]
  },
  {
   "cell_type": "markdown",
   "metadata": {
    "id": "Vi5h9D6CAjrp"
   },
   "source": [
    "## Other plots"
   ]
  },
  {
   "cell_type": "markdown",
   "metadata": {
    "id": "rJ8m3IFcAjrq"
   },
   "source": [
    "(In this section, we'll skip most of the univariate plotting types, like the **histogram** and **density plot**, since we will cover these in the next session, on the **normal distribution.**)"
   ]
  },
  {
   "cell_type": "markdown",
   "metadata": {
    "id": "8aQB0pQeAjrq"
   },
   "source": [
    "### Pie charts"
   ]
  },
  {
   "cell_type": "markdown",
   "metadata": {
    "id": "FHruaAMFAjrr"
   },
   "source": [
    "This section will be very short: **don't use pie charts**. Thanks in advance."
   ]
  },
  {
   "cell_type": "markdown",
   "metadata": {
    "id": "fgUxhqCFAjrr"
   },
   "source": [
    "### Bar plot"
   ]
  },
  {
   "cell_type": "markdown",
   "metadata": {
    "id": "6jFIz-5YAjrs"
   },
   "source": [
    "Above we introduced some of the basic plotting mechanisms for combinations of two numeric variables that you can simply project onto a horizontal and vertical axis. However, often you'll be confronted with a combination of a categorical variable (that has distinct \"levels\") and a numeric variable (e.g. frequency counts for each of these categories). Take for instance, the material of the books in our Arthurian manuscripts data. Which material types are we talking about in fact and how common are they in the dataset? We already saw how we can use `Series.value_counts()` tabulate the respective proportions of the levels in such a categorical variable:"
   ]
  },
  {
   "cell_type": "code",
   "execution_count": null,
   "metadata": {},
   "outputs": [],
   "source": [
    "df.material.value_counts()"
   ]
  },
  {
   "cell_type": "markdown",
   "metadata": {},
   "source": [
    "Apparently, we are dealing with two kinds of materials: a clear majority of these books are made from parchment, and a smaller subset are made from paper. (Watch out: our data column also contains a high number of `NA`s again (cf. `head()`), but they are silently hidden from us by these commodity functions!) To visualize the relationship between these two variables (counts and categories), a **bar plot** is a very common choice.\n",
    "\n",
    "Here is the quick way to plot right from the summary `Series` object created by `value_counts()`"
   ]
  },
  {
   "cell_type": "code",
   "execution_count": null,
   "metadata": {},
   "outputs": [],
   "source": [
    "df.material.value_counts().plot.bar()\n",
    "plt.show()"
   ]
  },
  {
   "cell_type": "markdown",
   "metadata": {
    "id": "0_7T3pSaAjrx"
   },
   "source": [
    ">##### Exercise\n",
    "> The bar plot can be easily extended to more than two categories. Can you repeat these visualisations for the `script` column in the data, which records the primary medieval \"font\" or letter type that is used in these books?"
   ]
  },
  {
   "cell_type": "code",
   "execution_count": 18,
   "metadata": {},
   "outputs": [],
   "source": [
    "# code here"
   ]
  },
  {
   "cell_type": "markdown",
   "metadata": {},
   "source": [
    "The seaborn version of this is called a `countplot` (documentation [here](https://seaborn.pydata.org/generated/seaborn.countplot.html))"
   ]
  },
  {
   "cell_type": "code",
   "execution_count": null,
   "metadata": {},
   "outputs": [],
   "source": [
    "# Make the figure wider to fit the labels. The alternative would be to rotate them....\n",
    "sns.set_theme(rc={\"figure.figsize\": (12, 6)})\n",
    "\n",
    "sns.countplot(data=df[[\"script\"]], x=\"script\")\n",
    "plt.show()\n",
    "sns.reset_defaults()"
   ]
  },
  {
   "cell_type": "markdown",
   "metadata": {
    "id": "3HV9EvuOAjry"
   },
   "source": [
    "<img src=\"https://medievalbooks.files.wordpress.com/2013/04/afb-3-schrijfblad.jpg?w=948\"/>\n",
    "\n",
    "*Advertisement sheet for scripts, c. 1450 (The Hague, KB, 76 D 45)*."
   ]
  },
  {
   "cell_type": "markdown",
   "metadata": {
    "id": "f0_7rkJWAjr0"
   },
   "source": [
    "### Box plots"
   ]
  },
  {
   "cell_type": "markdown",
   "metadata": {
    "id": "JqGerZ9EAjr0"
   },
   "source": [
    "Bar plots are useful when you have a single value that you wish to plot for each category, like the cumulative count. Often, however, you'll have multiple counts inside each category and you'd like to find out whether there are different trends in each group. One question that you could ask yourself, for instance, is whether parchment books are larger than paper books? Let us revisit our dimensions data from above, but add the `material` column instead of the date columns this time:"
   ]
  },
  {
   "cell_type": "code",
   "execution_count": 11,
   "metadata": {
    "id": "7YVlqGtBAjr1",
    "outputId": "368ecdd2-4d5e-4472-94ab-eb51a0a0f2c0"
   },
   "outputs": [
    {
     "data": {
      "text/html": [
       "<div>\n",
       "<style scoped>\n",
       "    .dataframe tbody tr th:only-of-type {\n",
       "        vertical-align: middle;\n",
       "    }\n",
       "\n",
       "    .dataframe tbody tr th {\n",
       "        vertical-align: top;\n",
       "    }\n",
       "\n",
       "    .dataframe thead th {\n",
       "        text-align: right;\n",
       "    }\n",
       "</style>\n",
       "<table border=\"1\" class=\"dataframe\">\n",
       "  <thead>\n",
       "    <tr style=\"text-align: right;\">\n",
       "      <th></th>\n",
       "      <th>leaf-height</th>\n",
       "      <th>leaf-width</th>\n",
       "      <th>material</th>\n",
       "      <th>surface</th>\n",
       "    </tr>\n",
       "  </thead>\n",
       "  <tbody>\n",
       "    <tr>\n",
       "      <th>1</th>\n",
       "      <td>308.0</td>\n",
       "      <td>215.0</td>\n",
       "      <td>parchment</td>\n",
       "      <td>66220.0</td>\n",
       "    </tr>\n",
       "    <tr>\n",
       "      <th>3</th>\n",
       "      <td>280.0</td>\n",
       "      <td>200.0</td>\n",
       "      <td>paper</td>\n",
       "      <td>56000.0</td>\n",
       "    </tr>\n",
       "    <tr>\n",
       "      <th>4</th>\n",
       "      <td>230.0</td>\n",
       "      <td>155.0</td>\n",
       "      <td>parchment</td>\n",
       "      <td>35650.0</td>\n",
       "    </tr>\n",
       "    <tr>\n",
       "      <th>5</th>\n",
       "      <td>232.0</td>\n",
       "      <td>160.0</td>\n",
       "      <td>parchment</td>\n",
       "      <td>37120.0</td>\n",
       "    </tr>\n",
       "    <tr>\n",
       "      <th>9</th>\n",
       "      <td>260.0</td>\n",
       "      <td>128.0</td>\n",
       "      <td>parchment</td>\n",
       "      <td>33280.0</td>\n",
       "    </tr>\n",
       "    <tr>\n",
       "      <th>...</th>\n",
       "      <td>...</td>\n",
       "      <td>...</td>\n",
       "      <td>...</td>\n",
       "      <td>...</td>\n",
       "    </tr>\n",
       "    <tr>\n",
       "      <th>1160</th>\n",
       "      <td>95.0</td>\n",
       "      <td>160.0</td>\n",
       "      <td>parchment</td>\n",
       "      <td>15200.0</td>\n",
       "    </tr>\n",
       "    <tr>\n",
       "      <th>1162</th>\n",
       "      <td>150.0</td>\n",
       "      <td>105.0</td>\n",
       "      <td>parchment</td>\n",
       "      <td>15750.0</td>\n",
       "    </tr>\n",
       "    <tr>\n",
       "      <th>1163</th>\n",
       "      <td>160.0</td>\n",
       "      <td>140.0</td>\n",
       "      <td>parchment</td>\n",
       "      <td>22400.0</td>\n",
       "    </tr>\n",
       "    <tr>\n",
       "      <th>1164</th>\n",
       "      <td>420.0</td>\n",
       "      <td>300.0</td>\n",
       "      <td>parchment</td>\n",
       "      <td>126000.0</td>\n",
       "    </tr>\n",
       "    <tr>\n",
       "      <th>1165</th>\n",
       "      <td>198.0</td>\n",
       "      <td>122.0</td>\n",
       "      <td>parchment</td>\n",
       "      <td>24156.0</td>\n",
       "    </tr>\n",
       "  </tbody>\n",
       "</table>\n",
       "<p>658 rows × 4 columns</p>\n",
       "</div>"
      ],
      "text/plain": [
       "      leaf-height  leaf-width   material   surface\n",
       "1           308.0       215.0  parchment   66220.0\n",
       "3           280.0       200.0      paper   56000.0\n",
       "4           230.0       155.0  parchment   35650.0\n",
       "5           232.0       160.0  parchment   37120.0\n",
       "9           260.0       128.0  parchment   33280.0\n",
       "...           ...         ...        ...       ...\n",
       "1160         95.0       160.0  parchment   15200.0\n",
       "1162        150.0       105.0  parchment   15750.0\n",
       "1163        160.0       140.0  parchment   22400.0\n",
       "1164        420.0       300.0  parchment  126000.0\n",
       "1165        198.0       122.0  parchment   24156.0\n",
       "\n",
       "[658 rows x 4 columns]"
      ]
     },
     "execution_count": 11,
     "metadata": {},
     "output_type": "execute_result"
    }
   ],
   "source": [
    "size = df[[\"leaf-height\", \"leaf-width\", \"material\"]].dropna()\n",
    "size[\"surface\"] = size[\"leaf-height\"] * size[\"leaf-width\"]\n",
    "# Remove the buggy points with zero surface area\n",
    "size = size[size.surface > 0]\n",
    "size"
   ]
  },
  {
   "cell_type": "markdown",
   "metadata": {},
   "source": [
    "Let us now plot whether the surface of paper books is any different from that of parchment books. To do so, **box plots** are a great instrument in data science, and you'll see *many* of them in the coming weeks, because the information that they convey can be very rich."
   ]
  },
  {
   "cell_type": "markdown",
   "metadata": {},
   "source": [
    "Once again, here's the quickest way..."
   ]
  },
  {
   "cell_type": "code",
   "execution_count": 12,
   "metadata": {},
   "outputs": [
    {
     "data": {
      "image/png": "[encoded data removed]",
      "text/plain": [
       "<Figure size 640x480 with 1 Axes>"
      ]
     },
     "metadata": {},
     "output_type": "display_data"
    }
   ],
   "source": [
    "size.plot.box(column=\"surface\", by=\"material\")\n",
    "plt.show()"
   ]
  },
  {
   "cell_type": "markdown",
   "metadata": {},
   "source": [
    "... and the most basic seaborn way (We'll let you find the documentation yourself from now on)"
   ]
  },
  {
   "cell_type": "code",
   "execution_count": null,
   "metadata": {},
   "outputs": [],
   "source": [
    "sns.boxplot(data=size, x=\"material\", y=\"surface\")\n",
    "plt.show()"
   ]
  },
  {
   "cell_type": "markdown",
   "metadata": {},
   "source": [
    "What can we glean from such boxplots? Quite a lot in fact. Boxplots are great for gleaning the general differences in the distribution across a series of scalar variables across different categories. These plots visualize the spread and centers of your data. For each of the groups or levels in our $x$, they will visualize for our $y$:\n",
    " - the **median** (the thick line in the middle)\n",
    " - the **hinges**, which come close to the 1st and 3rd quartile or 25% and 75% percentile (which we saw before)\n",
    " - the **whiskers**, or the most extreme values *that are not outliers* (= values that are more than 1.5 **interquartile ranges** away from the box)\n",
    " - **outliers** (as empty circles) outside the range of the whiskers\n",
    " \n",
    "(*For those of you who speak Dutch, the correct translation of \"box plot\" is \"snorredoos\", which sounds really cute in our opinion. An alternative English name is also \"whisker plot\"*)."
   ]
  },
  {
   "cell_type": "markdown",
   "metadata": {},
   "source": [
    "For our case study, the box plot would suggest that the median length of paper books is somewhat lower than that of their parchment counterparts, but that difference doesn't strike us as extremely impressive. More relevant seems to be difference in spread around the median, since the parchment surface seem to show a much wider range (with more extended whiskers on top). This might be related to the more standardized production of paper (cf. fixed \"ream\" sizes) in later times."
   ]
  },
  {
   "cell_type": "markdown",
   "metadata": {},
   "source": [
    "Two elements are often added to boxplots, that are worthwhile additions to the standard plotting mechanism:\n",
    " - the mean per category, indicated with a symbol\n",
    " - the **notches**, that extend across the range $\\pm 1.58 \\frac{IQR}{\\sqrt{n}}$\n",
    " \n",
    "That goes like this:"
   ]
  },
  {
   "cell_type": "code",
   "execution_count": null,
   "metadata": {},
   "outputs": [],
   "source": [
    "sns.set_theme(rc={\"figure.figsize\": (6, 9)})\n",
    "\n",
    "sns.boxplot(\n",
    "    data=size,\n",
    "    x=\"material\",\n",
    "    y=\"surface\",\n",
    "    notch=True,\n",
    "    width=0.5,\n",
    "    showmeans=True,\n",
    "    # More incantations. The default seaborn symbol for the mean is an ugly green triangle. Try\n",
    "    # commenting out these lines and see the difference, or changing some of the values below...\n",
    "    meanprops={\n",
    "        \"marker\": \"o\",\n",
    "        \"markerfacecolor\": \"white\",\n",
    "        \"markeredgecolor\": \"black\",\n",
    "        \"markersize\": \"9\",\n",
    "    },\n",
    ")\n",
    "plt.show()\n",
    "sns.reset_defaults()"
   ]
  },
  {
   "cell_type": "markdown",
   "metadata": {},
   "source": [
    "The second addition might sound a bit complicated, but it is in fact a particularly cool feature: *if the notches of two boxes do not overlap at all, their medians will be significantly different* (but overlap is no guarantee for non-significance). Don't worry if this does not make a lot of sense yet, since we'll only cover the vexed topic of statistical significance in the next session.\n",
    "\n",
    "As for the means, remember from earlier that if the mean is very different to the median, we might be suffering from the effects of **outliers**."
   ]
  },
  {
   "cell_type": "markdown",
   "metadata": {},
   "source": [
    "Box plots can tell you a lot (without requiring much effort) by visualizing your measures of spread and center. You should use them often. There are nice extensions too, such as **violinplots**, **splitted box plots** or **rain plots**."
   ]
  },
  {
   "cell_type": "markdown",
   "metadata": {},
   "source": [
    "## \"Publication\" Figures\n",
    "\n",
    "Finally, let's combine everything we have learned, and make a very fancy figure that would be more like something you might include in a research paper..."
   ]
  },
  {
   "cell_type": "markdown",
   "metadata": {},
   "source": [
    "First, we install a [Google Font](fonts.google.com) in a way that is visible to Python on any operating system. These fonts have open licenses, which means you shouldn't have a problem using them in papers (however sometimes you will only be allowed to use certain fonts).\n",
    "\n",
    "NB: don't ever use this particular font in a research paper, it is just a fun example ;)"
   ]
  },
  {
   "cell_type": "code",
   "execution_count": null,
   "metadata": {},
   "outputs": [],
   "source": [
    "try:\n",
    "    import mpl_fontkit as fk\n",
    "except ImportError:\n",
    "    # If the package could not be imported, this tried to install it via pip\n",
    "    %pip install mpl_fontkit\n",
    "\n",
    "fk.install(\"UnifrakturCook\")"
   ]
  },
  {
   "cell_type": "markdown",
   "metadata": {},
   "source": [
    "And now the figure. Here we are doing a lot of things:\n",
    "* Setting a lot of theme elements at once\n",
    "* Increasing the DPI to make the graphics look 'smoother'\n",
    "* Combining a violin and a box plot\n",
    "* Clearer axis labels\n",
    "* Saving the figure as an SVG\n",
    "\n",
    "SVG is what is called a *vector format*, which means that it can be zoomed forever and still not suffer from jagged or blurry lines. It is very common for publications to ask for a format like this. You mostly need special software to open these files, but if you open it in your web browser it will work."
   ]
  },
  {
   "cell_type": "code",
   "execution_count": null,
   "metadata": {},
   "outputs": [],
   "source": [
    "sns.set_theme(\n",
    "    context=\"notebook\",\n",
    "    font=\"UnifrakturCook\",\n",
    "    style=\"whitegrid\",\n",
    "    rc={\"figure.figsize\": (6, 8), \"figure.dpi\": 300},\n",
    ")\n",
    "\n",
    "sns.violinplot(data=size, x=\"material\", y=\"surface\", alpha=0.3)\n",
    "\n",
    "sns.boxplot(\n",
    "    data=size,\n",
    "    x=\"material\",\n",
    "    y=\"surface\",\n",
    "    notch=True,\n",
    "    width=0.15,\n",
    "    showmeans=True,\n",
    "    meanprops={\n",
    "        \"marker\": \"o\",\n",
    "        \"markerfacecolor\": \"white\",\n",
    "        \"markeredgecolor\": \"black\",\n",
    "        \"markersize\": \"9\",\n",
    "    },\n",
    "    saturation=1,\n",
    ").set(\n",
    "    xlabel=\"Material\",\n",
    "    ylabel=\"Surface Area (sq. mm)\",\n",
    "    title=\"Surface Area of Manuscripts, by Material\",\n",
    ")\n",
    "\n",
    "plt.tight_layout()\n",
    "# Must call savefig() BEFORE plt.show() !!\n",
    "plt.savefig(\"fancybox.svg\", format=\"svg\")\n",
    "\n",
    "plt.show()\n",
    "sns.reset_defaults()"
   ]
  },
  {
   "cell_type": "markdown",
   "metadata": {
    "id": "C9GLr8SPAjsG"
   },
   "source": [
    "### Mosaic"
   ]
  },
  {
   "cell_type": "code",
   "execution_count": 26,
   "metadata": {},
   "outputs": [],
   "source": [
    "from statsmodels.graphics.mosaicplot import mosaic"
   ]
  },
  {
   "cell_type": "markdown",
   "metadata": {
    "id": "l-y7l0ABAjsG"
   },
   "source": [
    "Scatterplots are great from combinations of two numeric variables; bar plots and box plots are great instruments for working with combinations of a numerical and a categorical variable. But what is available for combinations of *two categorical variables*? Suppose, for instance, that we'd like to learn something about the relationship between material (parchment vs paper) and the script type used in these books? Let us limit to the most common levels for each factor:"
   ]
  },
  {
   "cell_type": "code",
   "execution_count": null,
   "metadata": {},
   "outputs": [],
   "source": [
    "df.script.value_counts()"
   ]
  },
  {
   "cell_type": "code",
   "execution_count": 28,
   "metadata": {},
   "outputs": [],
   "source": [
    "scriptmat = df[\n",
    "    df.script.isin([\"textualis\", \"cursive\"]) & df.material.isin([\"paper\", \"parchment\"])\n",
    "]"
   ]
  },
  {
   "cell_type": "markdown",
   "metadata": {},
   "source": [
    " Is one of these materials more commonly combined with a specific script type? We can do a mosaic plot to find out:"
   ]
  },
  {
   "cell_type": "code",
   "execution_count": null,
   "metadata": {},
   "outputs": [],
   "source": [
    "mosaic(scriptmat, [\"script\", \"material\"], gap=0.01)\n",
    "plt.show()"
   ]
  },
  {
   "cell_type": "code",
   "execution_count": null,
   "metadata": {},
   "outputs": [],
   "source": [
    "mosaic(scriptmat, [\"material\", \"script\"], gap=0.01)\n",
    "plt.show()"
   ]
  },
  {
   "cell_type": "markdown",
   "metadata": {},
   "source": [
    "The plot looks a little weird, because apparently almost no paper manuscripts had a textualis script. Whenever you think something looks weird, it's a good habit to just double check..."
   ]
  },
  {
   "cell_type": "code",
   "execution_count": null,
   "metadata": {},
   "outputs": [],
   "source": [
    "df[df.material == \"paper\"][\"script\"].value_counts()"
   ]
  },
  {
   "cell_type": "markdown",
   "metadata": {},
   "source": [
    "Mosaic plots are not as commonly used in the Python world (they seem to only be available in the `statsmodels` package we will be using later, not in seaborn or pandas) but they can provide a lot of information about categorical data in the right circumstances."
   ]
  },
  {
   "cell_type": "markdown",
   "metadata": {},
   "source": [
    "```\n",
    "Version History\n",
    "\n",
    "Current: v1.0.2\n",
    "\n",
    "9/17/24: 1.0.0: first draft, BN\n",
    "04/10/24: 1.0.1: typos and proofreading, MK\n",
    "13/10/24: 1.0.2: move to public, BN\n",
    "\n",
    "```"
   ]
  }
 ],
 "metadata": {
  "colab": {
   "name": "1-5-visualization.ipynb",
   "provenance": []
  },
  "kernelspec": {
   "display_name": "py311",
   "language": "python",
   "name": "python3"
  },
  "language_info": {
   "codemirror_mode": {
    "name": "ipython",
    "version": 3
   },
   "file_extension": ".py",
   "mimetype": "text/x-python",
   "name": "python",
   "nbconvert_exporter": "python",
   "pygments_lexer": "ipython3",
   "version": "3.11.0"
  }
 },
 "nbformat": 4,
 "nbformat_minor": 1
}
