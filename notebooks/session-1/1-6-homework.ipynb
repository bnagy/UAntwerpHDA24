{
 "cells": [
  {
   "cell_type": "markdown",
   "metadata": {
    "id": "wwyPXFb04izJ"
   },
   "source": [
    "# Session 1: homework\n",
    "\n",
    "## 1. Exploring datasets: Exercise spelling"
   ]
  },
  {
   "cell_type": "markdown",
   "metadata": {
    "id": "IQzqpi0T4izN"
   },
   "source": [
    "### Loading and inspecting the data"
   ]
  },
  {
   "cell_type": "markdown",
   "metadata": {
    "id": "Tr66cTQz4izO"
   },
   "source": [
    "Load and inspect `spelling/spelling_utf8.csv`. Read the `README` to get familiar with this dataset and its variables."
   ]
  },
  {
   "cell_type": "code",
   "execution_count": 1,
   "metadata": {},
   "outputs": [],
   "source": [
    "import pandas as pd\n",
    "import matplotlib.pyplot as plt\n",
    "import seaborn as sns"
   ]
  },
  {
   "cell_type": "code",
   "execution_count": 2,
   "metadata": {},
   "outputs": [],
   "source": [
    "# code here"
   ]
  },
  {
   "cell_type": "markdown",
   "metadata": {
    "id": "2GfHbP9L4izR"
   },
   "source": [
    "### Data exploration"
   ]
  },
  {
   "cell_type": "markdown",
   "metadata": {
    "id": "HwAVVdJU4izS"
   },
   "source": [
    "- Can we observe an education difference in the number of errors that are made (`error` = 0 vs `error` = 1)? Create a table with `error` (0/1) per educational track."
   ]
  },
  {
   "cell_type": "code",
   "execution_count": 3,
   "metadata": {},
   "outputs": [],
   "source": [
    "# code here"
   ]
  },
  {
   "cell_type": "markdown",
   "metadata": {
    "id": "hxlRB04a4izT"
   },
   "source": [
    "- Now convert this table to a proportion table (percentages). In addition, make the table a bit easier on the eye by rounding the percentages to two digits with `round()`."
   ]
  },
  {
   "cell_type": "code",
   "execution_count": 4,
   "metadata": {
    "id": "7JICWuaL4izU"
   },
   "outputs": [],
   "source": [
    "# code here"
   ]
  },
  {
   "cell_type": "markdown",
   "metadata": {
    "id": "LOPlB4xQ4izV"
   },
   "source": [
    "##### Question:\n",
    "> How to interpret these percentages?"
   ]
  },
  {
   "cell_type": "markdown",
   "metadata": {
    "id": "prmTNX1D4izV"
   },
   "source": [
    "- Now repeat these steps, but print column totals instead of row totals -- in other words, for each value of 'error' the 'education' values should add up to 1."
   ]
  },
  {
   "cell_type": "code",
   "execution_count": 5,
   "metadata": {
    "id": "RMTghc-L4izW"
   },
   "outputs": [],
   "source": [
    "# code here"
   ]
  },
  {
   "cell_type": "markdown",
   "metadata": {
    "id": "IE2FnsGH4izW"
   },
   "source": [
    "### Data visualization"
   ]
  },
  {
   "cell_type": "markdown",
   "metadata": {
    "id": "1TLia4_a4izW"
   },
   "source": [
    "- Create a mosaic plot from the original dataframe (raw frequencies)."
   ]
  },
  {
   "cell_type": "code",
   "execution_count": 6,
   "metadata": {
    "id": "Z6iajxvb4izX"
   },
   "outputs": [],
   "source": [
    "# code here"
   ]
  },
  {
   "cell_type": "markdown",
   "metadata": {},
   "source": [
    "##### Question:\n",
    "> How to interpret the plot?"
   ]
  },
  {
   "cell_type": "markdown",
   "metadata": {},
   "source": [
    "- Can you recreate this plot, but with education on the \"y-axis\" and error on the \"x-axis\"?"
   ]
  },
  {
   "cell_type": "code",
   "execution_count": 7,
   "metadata": {},
   "outputs": [],
   "source": [
    "# code here"
   ]
  },
  {
   "cell_type": "markdown",
   "metadata": {
    "id": "egl6eMrm4izY"
   },
   "source": [
    "## 2. Spanish authors from the Silver Age"
   ]
  },
  {
   "cell_type": "markdown",
   "metadata": {
    "id": "qkG6IdW94izY"
   },
   "source": [
    "In the next session, we'll work with a dataset that contains general information about a number of canonical Spanish authors from the so-called \"Silver Age\" of Hispanic literature. Let us explore this data already with a couple of simple (and not so simple) exercises:\n",
    "\n",
    "\n",
    "- Load the dataset `sp-authors.tsv` from the folder `../datasets/correlaciones`. Pay attention to the extension!\n",
    "- get an overview of the dataframe in the notebook using the 'last thing evaluated' trick\n",
    "\n",
    "> TIP: you may need the `sep=` option"
   ]
  },
  {
   "cell_type": "code",
   "execution_count": 8,
   "metadata": {
    "id": "QrRAJsqH4izY"
   },
   "outputs": [],
   "source": [
    "# code here"
   ]
  },
  {
   "cell_type": "markdown",
   "metadata": {
    "id": "yUY_WsKV4izY"
   },
   "source": [
    "- Inspect this dataset's contents via `describe()`."
   ]
  },
  {
   "cell_type": "code",
   "execution_count": 9,
   "metadata": {},
   "outputs": [],
   "source": [
    "# code here"
   ]
  },
  {
   "cell_type": "markdown",
   "metadata": {
    "id": "dhWh1Xa64izZ"
   },
   "source": [
    "- How many columns are in the dataset? How many rows?"
   ]
  },
  {
   "cell_type": "code",
   "execution_count": 10,
   "metadata": {},
   "outputs": [],
   "source": [
    "# code here"
   ]
  },
  {
   "cell_type": "markdown",
   "metadata": {
    "id": "UxXvH9814izZ"
   },
   "source": [
    "- Print the column names that are used in the dataset."
   ]
  },
  {
   "cell_type": "code",
   "execution_count": 11,
   "metadata": {},
   "outputs": [],
   "source": [
    "# code here"
   ]
  },
  {
   "cell_type": "markdown",
   "metadata": {
    "id": "H0v3GiZT4izZ"
   },
   "source": [
    "- What's the number of female authors in the dataset? How many male authors does it contain? Make a barplot of the counts for both genders."
   ]
  },
  {
   "cell_type": "code",
   "execution_count": 12,
   "metadata": {},
   "outputs": [],
   "source": [
    "# code here"
   ]
  },
  {
   "cell_type": "markdown",
   "metadata": {
    "id": "_mjndzWr4iza"
   },
   "source": [
    "- Check out the \"life.span\" column, that lists the age of each author at her/his time of death. What was the age of the youngest and oldest author (at their time of death)? What is the range of this column?"
   ]
  },
  {
   "cell_type": "code",
   "execution_count": 13,
   "metadata": {},
   "outputs": [],
   "source": [
    "# code here"
   ]
  },
  {
   "cell_type": "markdown",
   "metadata": {
    "id": "MjZouyXR4iza"
   },
   "source": [
    "- Calculate the mean and standard deviation for the average for these authors' life spans, **without making use of the functions `mean()` and `std()`**. Use these functions afterwards to verify whether your calculation is correct."
   ]
  },
  {
   "cell_type": "code",
   "execution_count": 14,
   "metadata": {},
   "outputs": [],
   "source": [
    "# code here"
   ]
  },
  {
   "cell_type": "markdown",
   "metadata": {
    "id": "DDcZfKiA4izb"
   },
   "source": [
    "- Sort the dataframe by the 'works' column in **descending** order (most works first). Print the names of the first 7 authors by works (most works). Print the names of the last 7 authors by works (fewest works)."
   ]
  },
  {
   "cell_type": "code",
   "execution_count": 15,
   "metadata": {},
   "outputs": [],
   "source": [
    "# code here"
   ]
  },
  {
   "cell_type": "markdown",
   "metadata": {
    "id": "QY-621R94izb"
   },
   "source": [
    "- Plot the number of \"novels\" that these authors wrote as a function of the number of (other) \"works\" that they produced. What do you observe?"
   ]
  },
  {
   "cell_type": "code",
   "execution_count": 16,
   "metadata": {},
   "outputs": [],
   "source": [
    "# code here"
   ]
  },
  {
   "cell_type": "markdown",
   "metadata": {
    "id": "POD7Zdu-4izb"
   },
   "source": [
    "- What's the mode of the \"gender\" column in this dataset?"
   ]
  },
  {
   "cell_type": "code",
   "execution_count": 17,
   "metadata": {},
   "outputs": [],
   "source": [
    "# code here"
   ]
  },
  {
   "cell_type": "markdown",
   "metadata": {
    "id": "5q0XUv714izb"
   },
   "source": [
    "## 3. Queer speech"
   ]
  },
  {
   "cell_type": "markdown",
   "metadata": {
    "id": "BMGXIPSC4izc"
   },
   "source": [
    "In the next session, we'll work with measurements of the \"pitch\" (i.e. the perceived frequency of sound) in the speech of Spanish-speaking adults. The dataset comes from a research project in the field of sociophonetics, in which the pitch of heterosexual men was compared to the pitch of homosexual men, as well as female speakers.\n",
    "\n",
    "- Load this dataset (it's a csv-file!) and dump the summary in a cell (evaluate it). You can find it as: `../datasets/queer/queer_speech.csv`"
   ]
  },
  {
   "cell_type": "code",
   "execution_count": 18,
   "metadata": {},
   "outputs": [],
   "source": [
    "# code here"
   ]
  },
  {
   "cell_type": "markdown",
   "metadata": {
    "id": "uhN4M6qK4izc"
   },
   "source": [
    "- Calculate the normalized proportion of the number of men and women in the dataset."
   ]
  },
  {
   "cell_type": "code",
   "execution_count": 19,
   "metadata": {},
   "outputs": [],
   "source": [
    "# code here"
   ]
  },
  {
   "cell_type": "markdown",
   "metadata": {
    "id": "2JY7DHyk4izc"
   },
   "source": [
    "- Create a new data frame, called `qsm`, selecting only the male rows from the data."
   ]
  },
  {
   "cell_type": "code",
   "execution_count": 20,
   "metadata": {},
   "outputs": [],
   "source": [
    "# code here"
   ]
  },
  {
   "cell_type": "markdown",
   "metadata": {
    "id": "LFotHSwq4izc"
   },
   "source": [
    "- The average pitch of a speaker is represented in the column \"meanf0\". Calculate the mean and standard deviation for each of the two sexual orientations among the male speakers. Use a boxplot to compare the values for \"meanf0\" in both categories, including the \"notches\" from the sprint. Describe what you observe."
   ]
  },
  {
   "cell_type": "code",
   "execution_count": 21,
   "metadata": {},
   "outputs": [],
   "source": [
    "# code here"
   ]
  },
  {
   "cell_type": "markdown",
   "metadata": {},
   "source": [
    "- Add the means for each of the two orientations in the male speakers as orange circles to the box plots from the previous step."
   ]
  },
  {
   "cell_type": "code",
   "execution_count": 22,
   "metadata": {},
   "outputs": [],
   "source": [
    "# code here"
   ]
  },
  {
   "cell_type": "markdown",
   "metadata": {
    "id": "8oWQAEc14izd"
   },
   "source": [
    "Now have a look at the \"f0sd\" column (which represents the standard deviation in pitch for each speaker). Using the `StandardScaler`, convert this column to z-score and assign the result to a new column in the dataframe."
   ]
  },
  {
   "cell_type": "code",
   "execution_count": 23,
   "metadata": {
    "id": "zXcabP2B4izd"
   },
   "outputs": [],
   "source": [
    "# code here"
   ]
  },
  {
   "cell_type": "markdown",
   "metadata": {
    "id": "fFWdBilO4izd"
   },
   "source": [
    "- *Hard*: Plot the z-scores for the standardized \"f0sd\" column with a box plot, for each of the three groups involved (heterosexual men, homosexual men, heterosexual women). One way is to create a new column for this, that combines \"sex\" and \"orientation\" (Look for help online as to how to do this.) Describe what you see."
   ]
  },
  {
   "cell_type": "code",
   "execution_count": 24,
   "metadata": {},
   "outputs": [],
   "source": [
    "# code here"
   ]
  },
  {
   "cell_type": "markdown",
   "metadata": {},
   "source": [
    "```\n",
    "Version History\n",
    "\n",
    "Current: v1.0.1\n",
    "\n",
    "9/18/24: 1.0.0: first draft, BN\n",
    "04/10/24: 1.0.1: typos + proofreading, MK\n",
    "```"
   ]
  },
  {
   "cell_type": "markdown",
   "metadata": {},
   "source": []
  }
 ],
 "metadata": {
  "colab": {
   "name": "1-7-home_exercises.ipynb",
   "provenance": []
  },
  "kernelspec": {
   "display_name": "py3.11",
   "language": "python",
   "name": "py3.11"
  },
  "language_info": {
   "codemirror_mode": {
    "name": "ipython",
    "version": 3
   },
   "file_extension": ".py",
   "mimetype": "text/x-python",
   "name": "python",
   "nbconvert_exporter": "python",
   "pygments_lexer": "ipython3",
   "version": "3.11.8"
  }
 },
 "nbformat": 4,
 "nbformat_minor": 1
}
