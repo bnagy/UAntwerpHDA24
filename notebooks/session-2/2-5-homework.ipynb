{
 "cells": [
  {
   "cell_type": "markdown",
   "metadata": {},
   "source": [
    "# Session 2: homework\n",
    "\n",
    "## The Federalist papers"
   ]
  },
  {
   "cell_type": "code",
   "execution_count": 1,
   "metadata": {},
   "outputs": [],
   "source": [
    "import numpy as np\n",
    "import pandas as pd\n",
    "import matplotlib.pyplot as plt\n",
    "import seaborn as sns\n",
    "import scipy as sp\n",
    "import statsmodels.api as sm\n",
    "import math"
   ]
  },
  {
   "cell_type": "markdown",
   "metadata": {},
   "source": [
    "- Load the Federalist papers dataset (`datasets/federalist/federalist-papers.csv`) into a dataframe.\n",
    "- Because the CSV has an existing index, use the parameter `index_col=0`"
   ]
  },
  {
   "cell_type": "code",
   "execution_count": 2,
   "metadata": {},
   "outputs": [],
   "source": [
    "# code here"
   ]
  },
  {
   "cell_type": "markdown",
   "metadata": {},
   "source": [
    "- The final column in this data has an \"AUTHOR\" label for each document. Store this column in a separate vector (called `auth`) and remove the author column from the data.\n",
    "> TIP: The column name is case-sensitive!"
   ]
  },
  {
   "cell_type": "code",
   "execution_count": 3,
   "metadata": {},
   "outputs": [],
   "source": [
    "# code here"
   ]
  },
  {
   "cell_type": "markdown",
   "metadata": {},
   "source": [
    "- This data is structured as a \"bag of words\" model: row = 1 document, column = 1 word, cell = absolute frequency of 1 word in 1 document. \n",
    "\n",
    "- Read the [documentation](https://scikit-learn.org/stable/modules/generated/sklearn.preprocessing.Normalizer.html#sklearn.preprocessing.Normalizer) for the `sklearn.preprocessing.Normalizer`\n",
    "- import the `Normalizer` module and use the `fit_transform()` method to apply \"L1 normalization\" to the dataframe.\n",
    "- This will produce a numpy `ndarray`. Save it as a new variable.\n",
    "- Now create a new pandas dataframe from this, and set the `columns=` parameter using the `columns` property from the original dataframe."
   ]
  },
  {
   "cell_type": "markdown",
   "metadata": {},
   "source": [
    "- Inspect the distribution of the resulting relative frequencies for the following words (across the entire dataset):\n",
    "    - of\n",
    "    - is\n",
    "    - upon\n",
    "\n",
    "- Plot for each of these words a histogram of the column values and overlay that with a red density curse. Which of these \"seems\" normally distributed?\n",
    "\n",
    "> TIP: you might find the argument `cut=0` useful\n"
   ]
  },
  {
   "cell_type": "code",
   "execution_count": 4,
   "metadata": {},
   "outputs": [],
   "source": [
    "# code here"
   ]
  },
  {
   "cell_type": "markdown",
   "metadata": {},
   "source": [
    "- Verify your intuitions either by applying a Shapiro-Wilk test, or by using a QQ plot (or both)"
   ]
  },
  {
   "cell_type": "code",
   "execution_count": 5,
   "metadata": {},
   "outputs": [],
   "source": [
    "# code here"
   ]
  },
  {
   "cell_type": "markdown",
   "metadata": {},
   "source": [
    "- Hamilton and Madison, the two primary authors in the dataset, are said to use the word \"upon\" in very different ways. Extract the relative frequencies of these words for each author in a separate vector. Produce a boxplot to compare the distribution of these two authors.\n",
    "\n",
    "> TIP: this may be a little difficult. Google is your friend."
   ]
  },
  {
   "cell_type": "code",
   "execution_count": 6,
   "metadata": {},
   "outputs": [],
   "source": [
    "# code here"
   ]
  },
  {
   "cell_type": "markdown",
   "metadata": {},
   "source": [
    "- Define a concrete hypothesis regarding a potential difference in \"upon\" usage between these two authors. Make sure that you make a conscious choice about the test's directionality. "
   ]
  },
  {
   "cell_type": "code",
   "execution_count": 7,
   "metadata": {},
   "outputs": [],
   "source": [
    "# define hypothesis"
   ]
  },
  {
   "cell_type": "markdown",
   "metadata": {},
   "source": [
    "Now is the time for a two-sample Kolmogorov-Smirnov test. Read the [documentation](https://docs.scipy.org/doc/scipy/reference/generated/scipy.stats.ks_2samp.html), define the appropriate hypothesis, and run the test. Describe how you interpret the result of the test.\n",
    "\n",
    "> TIP: In particular, read this part carefully!\n",
    ">\n",
    ">Note that the alternative hypotheses describe the CDFs of the underlying distributions, not the observed values of the data. For example, suppose x1 ~ F and x2 ~ G. If F(x) > G(x) for all x, the values in x1 tend to be less than those in x2."
   ]
  },
  {
   "cell_type": "code",
   "execution_count": 8,
   "metadata": {},
   "outputs": [],
   "source": [
    "# code here"
   ]
  },
  {
   "cell_type": "markdown",
   "metadata": {},
   "source": [
    "- Run a suitable test to assess whether the central tendency in the two \"upon\" samples is (in)significantly different. Are you allowed to run a $t$-test to compare the means? Run tests to make your case."
   ]
  },
  {
   "cell_type": "code",
   "execution_count": 9,
   "metadata": {},
   "outputs": [],
   "source": [
    "# code here"
   ]
  },
  {
   "cell_type": "markdown",
   "metadata": {},
   "source": [
    "- Repeat all the previous steps to compare our two authors' usage of the word \"is\": which test is most appropriate to assess the difference in central tendency across both samples?"
   ]
  },
  {
   "cell_type": "code",
   "execution_count": 10,
   "metadata": {},
   "outputs": [],
   "source": [
    "# code here"
   ]
  },
  {
   "cell_type": "markdown",
   "metadata": {},
   "source": [
    "## Translation as a treatment?"
   ]
  },
  {
   "cell_type": "markdown",
   "metadata": {},
   "source": [
    "In the block below, we load a dataset from Gries's text book:"
   ]
  },
  {
   "cell_type": "code",
   "execution_count": null,
   "metadata": {},
   "outputs": [],
   "source": [
    "df = pd.read_csv(\n",
    "    \"../datasets/gries/04-3-2-2_textlengths.csv\", sep=\"\\t\", index_col=\"CASE\"\n",
    ")\n",
    "df.head(3)"
   ]
  },
  {
   "cell_type": "code",
   "execution_count": null,
   "metadata": {},
   "outputs": [],
   "source": [
    "translat = df.pivot(index=\"TEXT\", columns=\"TEXTSOURCE\", values=\"LENGTH\")\n",
    "translat"
   ]
  },
  {
   "cell_type": "markdown",
   "metadata": {},
   "source": [
    "This dataset was obtained from the following study: \n",
    "> Frankenberg-Garcia, Ana (2004), 'Are translations longer than source texts? A corpus-based study of explicitation'. Paper presented at Third International CULT (Corpus Use and Learning to Translate) Conference, Barcelona, 22–24. January 2004.\n",
    "\n",
    "It features the length of 16 texts (which were controlled in size) that were translated to another language (half of the texts were translated from English to Portuguese, half the other way round).\n",
    "\n",
    "- Make a boxplot of the data, comparing the lengths of the texts in both categories. What do you observe? Is this a good visualization?"
   ]
  },
  {
   "cell_type": "code",
   "execution_count": 13,
   "metadata": {},
   "outputs": [],
   "source": [
    "# code here"
   ]
  },
  {
   "cell_type": "markdown",
   "metadata": {},
   "source": [
    "- Plot the differences by text"
   ]
  },
  {
   "cell_type": "code",
   "execution_count": 14,
   "metadata": {},
   "outputs": [],
   "source": [
    "# code here"
   ]
  },
  {
   "cell_type": "markdown",
   "metadata": {},
   "source": [
    "- Examine the differences with a QQ plot\n",
    "- What is the mean difference in length between these source texts and their translations?\n",
    "- Are these differences normally distributed?"
   ]
  },
  {
   "cell_type": "code",
   "execution_count": 15,
   "metadata": {},
   "outputs": [],
   "source": [
    "# code here"
   ]
  },
  {
   "cell_type": "markdown",
   "metadata": {},
   "source": [
    "Answer the following question, using the appropriate test, in its correct paired or unpaired variant and applying the correct directionality: Are the originals in this dataset statistically speaking shorter than their translated counterparts?"
   ]
  },
  {
   "cell_type": "code",
   "execution_count": 16,
   "metadata": {},
   "outputs": [],
   "source": [
    "# code here"
   ]
  },
  {
   "cell_type": "markdown",
   "metadata": {},
   "source": [
    "```\n",
    "Version History\n",
    "\n",
    "Current: v1.0.1\n",
    "\n",
    "26/9/24: 1.0.0: first draft, BN\n",
    "04/10/24: 1.0.1: typos + proofreading, MK\n",
    "```"
   ]
  },
  {
   "cell_type": "markdown",
   "metadata": {},
   "source": []
  }
 ],
 "metadata": {
  "kernelspec": {
   "display_name": "py312",
   "language": "python",
   "name": "python3"
  },
  "language_info": {
   "codemirror_mode": {
    "name": "ipython",
    "version": 3
   },
   "file_extension": ".py",
   "mimetype": "text/x-python",
   "name": "python",
   "nbconvert_exporter": "python",
   "pygments_lexer": "ipython3",
   "version": "3.12.3"
  }
 },
 "nbformat": 4,
 "nbformat_minor": 4
}
